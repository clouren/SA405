{
 "cells": [
  {
   "cell_type": "markdown",
   "metadata": {},
   "source": [
    "<h5 class='prehead'>SA405 &middot; Advanced Math Programming &middot; Fall 2022 &middot; Alameda, Curry, Lourenco &middot; \n",
    "\n",
    "<h5 class='lesson'>Lab 3</h5>\n",
    "\n",
    "<h1 class='lesson_title'>Fixed Charge Models</h1>"
   ]
  },
  {
   "cell_type": "markdown",
   "metadata": {},
   "source": [
    "In this lab we will get some practice with implementing logical constraints in network flow models. It may be helpful to look back at lab 2 to review network flow models."
   ]
  },
  {
   "cell_type": "code",
   "execution_count": 4,
   "metadata": {},
   "outputs": [],
   "source": [
    "import pyomo.environ as pyo"
   ]
  },
  {
   "cell_type": "markdown",
   "metadata": {},
   "source": [
    "One important thing to remember for this lab is that you can use if statements inside of sums to only sum across some indices. In the following example, I have a set of edges and I only want to sum across some of them"
   ]
  },
  {
   "cell_type": "code",
   "execution_count": 2,
   "metadata": {},
   "outputs": [
    {
     "name": "stdout",
     "output_type": "stream",
     "text": [
      "x[1,2] + x[1,3] + x[1,4]  <=  2.0\n"
     ]
    }
   ],
   "source": [
    "E = [(1,2), (1,3), (1,4), (2,3), (2,4), (3,4)]\n",
    "\n",
    "model = pyo.ConcreteModel()\n",
    "    \n",
    "# Decision variables\n",
    "model.x = pyo.Var(E, domain=pyo.NonNegativeIntegers)\n",
    "\n",
    "# This will sum x[i,j] across all edges if the first index is equal to 1 and set it <= 2\n",
    "def test_const(model):\n",
    "    return sum(model.x[i,j] for (i,j) in E if i == 1) <= 2\n",
    "model.test_constraint = pyo.Constraint(rule=test_const)\n",
    "\n",
    "# Print to see if it's correct \n",
    "print(model.test_constraint.expr)\n",
    "\n",
    "# Note that you MUST do it this way in your sums doing soemthing like\n",
    "# model.x[1,j] will not work appropriately if you have i and j indices"
   ]
  },
  {
   "cell_type": "markdown",
   "metadata": {},
   "source": [
    "Using this plus the tips from lab 2 should help you complete this lab."
   ]
  },
  {
   "cell_type": "markdown",
   "metadata": {},
   "source": [
    "A company wants to ship their goods from two suppliers to three customers. Each item must be shipped to a warehouse first prior to being shipped to a customer. The following table gives the cost of shipping from each supplier to each warehouse and from each warehouse to each customer."
   ]
  },
  {
   "cell_type": "markdown",
   "metadata": {},
   "source": [
    "|  | Warehouse A| Warehouse B | Warehouse C| \n",
    "| :- | -: | -: | -: |\n",
    "| Supplier 1 | 25 | 30 | 40 |\n",
    "| Supplier 2 | 35 | 25 | 20 |"
   ]
  },
  {
   "cell_type": "markdown",
   "metadata": {},
   "source": [
    "|  | Customer 1| Customer 2 | Customer 3| \n",
    "| :- | -: | -: | -: |\n",
    "| Warehouse A | 25 | 19 | 15 |\n",
    "| Warehouse B | 20 | 25 | 22 |\n",
    "| Warehouse C | 15 | 18 | 17 |"
   ]
  },
  {
   "cell_type": "markdown",
   "metadata": {},
   "source": [
    "The company can decide if they want to use each warehouse or not. If they use warehouse 1, it can process 900 units and has an operating cost of 3000 dollars. Likewise warehouse 2 can process 1000 units and has an operating cost of 4000 dollars. Finally, warehouse 3 can process 800 units and has an operating cost of 3500 dollars.\n",
    "\n",
    "Lastly, supplier 1 has a supply of 1000 units and supplier 2 has a supply of 700 units. Customers 1, 2, and 3 have demands of 600, 600, and 500, respectively. You write the following fixed charge model."
   ]
  },
  {
   "cell_type": "markdown",
   "metadata": {},
   "source": [
    "\n",
    "**Sets:**\n",
    "- $N =$ the set of all nodes\n",
    "- $W =$ the set of warehouse nodes\n",
    "- $E =$ the set of edges\n",
    "\n",
    "**Parameters:**\n",
    "- $c_{i,j} =$ the cost of shipping along edge $(i,j)$, for all $(i,j) \\in E$\n",
    "- $d_i = $ the demand of node $i$ for all $i \\in N$\n",
    "- $s_i = $ the supply of node $i$ for all $i \\in N$\n",
    "- $f_w = $ the fixed cost of opening warehouse $w$ for all $w \\in W$\n",
    "- $M_w = $ the capacity of warehouse $w$ for all $w \\in W$\n",
    "\n",
    "**Decision Variables:**\n",
    "- $x_{i,j} =$ the number of units sent along edge $(i,j)$, for all $(i,j) \\in E$\n",
    "- $z_w = 1$ if warehouse $w$ is open and 0 otherwise for all $w \\in W$\n",
    "\n",
    "**Objective:**\n",
    "minimize the total cost\n",
    "\n",
    "**Constraints:**\n",
    "- (1) Flow balance\n",
    "- (2) Forcing and capacity\n",
    "- (3) Nonnegative$^*$ flow on all arcs $(i,j) \\in E$\n",
    "- (4) Binary"
   ]
  },
  {
   "cell_type": "markdown",
   "metadata": {},
   "source": [
    "Minimize $\\displaystyle Z = \\sum_{(i,j) \\in E} c_{i,j} x_{i,j} + \\sum_{w \\in W} f_w z_w$\n",
    "\n",
    "Subject to\n",
    "- (1)  $\\displaystyle \\sum_{(i,n) \\in E} x_{i,n} + s_n = \\sum_{(n,j) \\in E} x_{n,j} + d_n$, $~\\forall~ n \\in N$\n",
    "- (2)  $\\displaystyle \\sum_{(i,w) \\in E} x_{i,w} \\leq M_w z_w $, $~\\forall~ w \\in W$\n",
    "- (3)  $x_{i,j} \\in Z^+$, $~\\forall~ (i,j) \\in E$  \n",
    "- (4)  $z_w \\in \\{0,1\\}$, $~\\forall~ w \\in W$"
   ]
  },
  {
   "cell_type": "markdown",
   "metadata": {},
   "source": [
    "__1__ (10 points) Import Pyomo and Create a model"
   ]
  },
  {
   "cell_type": "code",
   "execution_count": null,
   "metadata": {},
   "outputs": [],
   "source": []
  },
  {
   "cell_type": "markdown",
   "metadata": {},
   "source": [
    "__2__ (15 points) Define all sets and parameters. I highly recommend you name supply nodes S1, S2 and customer nodes as C1, C2, C3 to avoid confusion"
   ]
  },
  {
   "cell_type": "code",
   "execution_count": 3,
   "metadata": {},
   "outputs": [],
   "source": []
  },
  {
   "cell_type": "markdown",
   "metadata": {},
   "source": [
    "__3__ (10 points) Define the decision variables. Remember that a binary variable can be defined as a pyo.Binary OR pyo.Boolean"
   ]
  },
  {
   "cell_type": "code",
   "execution_count": null,
   "metadata": {},
   "outputs": [],
   "source": []
  },
  {
   "cell_type": "markdown",
   "metadata": {},
   "source": [
    "__4__ (20 points) Define your objective function and add it to the model"
   ]
  },
  {
   "cell_type": "code",
   "execution_count": null,
   "metadata": {},
   "outputs": [],
   "source": []
  },
  {
   "cell_type": "markdown",
   "metadata": {},
   "source": [
    "__5__ (30 points) Add the constraints to your model. Remember to use if's inside of your sums to indicate which nodes are being are fixed."
   ]
  },
  {
   "cell_type": "code",
   "execution_count": null,
   "metadata": {},
   "outputs": [],
   "source": []
  },
  {
   "cell_type": "markdown",
   "metadata": {},
   "source": [
    "__6__ (15 points) Solve the model and print the solution neatly."
   ]
  },
  {
   "cell_type": "code",
   "execution_count": null,
   "metadata": {},
   "outputs": [],
   "source": []
  }
 ],
 "metadata": {
  "kernelspec": {
   "display_name": "Python 3",
   "language": "python",
   "name": "python3"
  },
  "language_info": {
   "codemirror_mode": {
    "name": "ipython",
    "version": 3
   },
   "file_extension": ".py",
   "mimetype": "text/x-python",
   "name": "python",
   "nbconvert_exporter": "python",
   "pygments_lexer": "ipython3",
   "version": "3.6.9"
  },
  "varInspector": {
   "cols": {
    "lenName": 16,
    "lenType": 16,
    "lenVar": 40
   },
   "kernels_config": {
    "python": {
     "delete_cmd_postfix": "",
     "delete_cmd_prefix": "del ",
     "library": "var_list.py",
     "varRefreshCmd": "print(var_dic_list())"
    },
    "r": {
     "delete_cmd_postfix": ") ",
     "delete_cmd_prefix": "rm(",
     "library": "var_list.r",
     "varRefreshCmd": "cat(var_dic_list()) "
    }
   },
   "types_to_exclude": [
    "module",
    "function",
    "builtin_function_or_method",
    "instance",
    "_Feature"
   ],
   "window_display": false
  }
 },
 "nbformat": 4,
 "nbformat_minor": 4
}
