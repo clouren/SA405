{
 "cells": [
  {
   "cell_type": "markdown",
   "metadata": {},
   "source": [
    "# SA405 Fall 2021\n",
    "## MiniProject 2: VRP\n",
    "#### Vehicle Routing Problem with subtour elimination constraint generation."
   ]
  },
  {
   "cell_type": "markdown",
   "metadata": {},
   "source": [
    "Instructions:\n",
    "1. Complete the steps below to create your base VRP model\n",
    "2. As the \"user\", add subtour elimination constraints until an optimal solution to the VRP problem is obtained (remember that the \"hub\" is never a part of the subtour elimination constraints)\n",
    "3. Submit your code with output displayed\n",
    "4. Recall that, as an optional bonus opportunity, you can try to automate the subtour elimination process."
   ]
  },
  {
   "cell_type": "code",
   "execution_count": null,
   "metadata": {},
   "outputs": [],
   "source": [
    "import pyomo.environ as pyo\n",
    "import math"
   ]
  },
  {
   "cell_type": "markdown",
   "metadata": {},
   "source": [
    "### Step 1: Define your sets and parameters."
   ]
  },
  {
   "cell_type": "code",
   "execution_count": null,
   "metadata": {},
   "outputs": [],
   "source": [
    "# Hint:  Print each data element to make sure it is what you need it to be\n",
    "\n",
    "# Sets: define the sets you need for your model here. It's easiest to\n",
    "# define 3 total sets.\n",
    "\n",
    "# TODO Insert sets here\n",
    "\n",
    "# dictionary of vertex coordinates\n",
    "# (key:value = vertex:(x-coord,y-coord))\n",
    "# location 15 is at (0,0)\n",
    "COORD = {0:(4,4), # TODO (finish dictionary of coordinates)}\n",
    "\n",
    "#Parameters\n",
    "         \n",
    "#Distance between every two nodes. There are multiple ways to do this but you must\n",
    "# use the math.sqrt() function to compute the linear distance\n",
    "\n",
    "# TODO\n",
    "         \n",
    "# Define all other parameters needed here\n"
   ]
  },
  {
   "cell_type": "markdown",
   "metadata": {},
   "source": [
    "### Step 2: Build your base VRP model with no subtour elimination constraints like we did in class.\n",
    "### Recall that there were only 2 constraints in our model"
   ]
  },
  {
   "cell_type": "markdown",
   "metadata": {},
   "source": [
    "#### Decision Variables"
   ]
  },
  {
   "cell_type": "code",
   "execution_count": null,
   "metadata": {},
   "outputs": [],
   "source": []
  },
  {
   "cell_type": "markdown",
   "metadata": {},
   "source": [
    "#### Objective function"
   ]
  },
  {
   "cell_type": "code",
   "execution_count": null,
   "metadata": {},
   "outputs": [],
   "source": []
  },
  {
   "cell_type": "markdown",
   "metadata": {},
   "source": [
    "#### Constraints"
   ]
  },
  {
   "cell_type": "code",
   "execution_count": null,
   "metadata": {},
   "outputs": [],
   "source": []
  },
  {
   "cell_type": "markdown",
   "metadata": {},
   "source": [
    "### Step 3: Solve the problem and print your solution."
   ]
  },
  {
   "cell_type": "code",
   "execution_count": null,
   "metadata": {},
   "outputs": [],
   "source": [
    "# Solve"
   ]
  },
  {
   "cell_type": "code",
   "execution_count": null,
   "metadata": {},
   "outputs": [],
   "source": [
    "# Print"
   ]
  },
  {
   "cell_type": "markdown",
   "metadata": {},
   "source": [
    "### Step 4: Now, you need to iteratively add subtour elimination constraints to your model, resolve and get an optimal solution. \n",
    "\n",
    "You can do this manually like I did in the lesson 10 supplement file, or you can do it\n",
    "in an automated fashion. If you can figure out how to automate this process correctly with \n",
    "no user input then I will give you bonus points on your grade.\n",
    "\n",
    "Remember that each time you add a new constraint, you must re-solve, print your solution, determine if it\n",
    "is optimal and so on. I will walk you through the first iteration."
   ]
  },
  {
   "cell_type": "markdown",
   "metadata": {},
   "source": [
    "#### Step 4.1: Is your current solution optimal, why or why not?"
   ]
  },
  {
   "cell_type": "markdown",
   "metadata": {},
   "source": [
    "To answer:"
   ]
  },
  {
   "cell_type": "markdown",
   "metadata": {},
   "source": [
    "#### Step 4.2: Define a set S1 to eliminate the subtour you want to eliminate. Also, define a function to create a constraint which eliminates this subtour and add this constraint to your model."
   ]
  },
  {
   "cell_type": "code",
   "execution_count": null,
   "metadata": {},
   "outputs": [],
   "source": []
  },
  {
   "cell_type": "markdown",
   "metadata": {},
   "source": [
    "#### Step 4.3: Re-solve the problem and print your solution. Is this solution optimal?"
   ]
  },
  {
   "cell_type": "code",
   "execution_count": null,
   "metadata": {},
   "outputs": [],
   "source": []
  },
  {
   "cell_type": "markdown",
   "metadata": {},
   "source": [
    "#### Continue until you have an optimal solution. For each incorrect solution, explain why the solution is incorrect. Report the optimal solution and the routes that each delivery person will take."
   ]
  },
  {
   "cell_type": "code",
   "execution_count": null,
   "metadata": {},
   "outputs": [],
   "source": []
  }
 ],
 "metadata": {
  "kernelspec": {
   "display_name": "Python 3",
   "language": "python",
   "name": "python3"
  },
  "language_info": {
   "codemirror_mode": {
    "name": "ipython",
    "version": 3
   },
   "file_extension": ".py",
   "mimetype": "text/x-python",
   "name": "python",
   "nbconvert_exporter": "python",
   "pygments_lexer": "ipython3",
   "version": "3.6.9"
  },
  "varInspector": {
   "cols": {
    "lenName": 16,
    "lenType": 16,
    "lenVar": 40
   },
   "kernels_config": {
    "python": {
     "delete_cmd_postfix": "",
     "delete_cmd_prefix": "del ",
     "library": "var_list.py",
     "varRefreshCmd": "print(var_dic_list())"
    },
    "r": {
     "delete_cmd_postfix": ") ",
     "delete_cmd_prefix": "rm(",
     "library": "var_list.r",
     "varRefreshCmd": "cat(var_dic_list()) "
    }
   },
   "types_to_exclude": [
    "module",
    "function",
    "builtin_function_or_method",
    "instance",
    "_Feature"
   ],
   "window_display": false
  }
 },
 "nbformat": 4,
 "nbformat_minor": 4
}
