{
 "cells": [
  {
   "cell_type": "markdown",
   "metadata": {},
   "source": [
    "# SA405 Fall 2021\n",
    "## MiniProject 2: VRP\n",
    "#### Vehicle Routing Problem with subtour elimination constraint generation."
   ]
  },
  {
   "cell_type": "markdown",
   "metadata": {},
   "source": [
    "Instructions:\n",
    "1. Complete the steps below to create your base VRP model\n",
    "2. As the \"user\", add subtour elimination constraints until an optimal solution to the VRP problem is obtained (remember that the \"hub\" is never a part of the subtour elimination constraints)\n",
    "3. Submit a your code with output displayed\n",
    "4. Recall that, as an optional bonus opportunity, you can try to automate the subtour elimination process."
   ]
  },
  {
   "cell_type": "code",
   "execution_count": 1,
   "metadata": {},
   "outputs": [],
   "source": [
    "import pyomo.environ as pyo\n",
    "import math"
   ]
  },
  {
   "cell_type": "markdown",
   "metadata": {},
   "source": [
    "### Step 1: Define your sets and parameters."
   ]
  },
  {
   "cell_type": "code",
   "execution_count": 2,
   "metadata": {},
   "outputs": [],
   "source": [
    "#Hint:  Print each data element to make sure it is what you need it to be\n",
    "\n",
    "# Sets, all nodes, customers and edges\n",
    "NODES =  list(range(17))  # [0,1,...,16]\n",
    "CUSTOMERS = [v for v in NODES if v>0]\n",
    "EDGES = [(v,w) for v in NODES for w in NODES if v < w]\n",
    "\n",
    "\n",
    "# dictionary of vertex coordinates\n",
    "# (key:value = vertex:(x-coord,y-coord))\n",
    "# location 15 is at (0,0)\n",
    "COORD = {0:(4,4),1:(2,8),2:(8,8),3:(0,7),\n",
    "         4:(1,7),5:(5,6),6:(7,6),7:(4,5),\n",
    "         8:(6,5),9:(5,3),10:(8,3),11:(1,2),\n",
    "         12:(2,2),13:(3,1),14:(7,1),15:(0,0),\n",
    "         16:(0,8)}\n",
    "#Parameters\n",
    "         \n",
    "#Distance between every two nodes. There are multiple ways to do this but you must\n",
    "# use the math.sqrt() function to compute the linear distance\n",
    "\n",
    "DISTANCE = {(v,w):math.sqrt((COORD[v][0]-COORD[w][0])**2 +(COORD[v][1]-COORD[w][1])**2)\n",
    "            for v in NODES for w in NODES if v < w}\n",
    "         \n",
    "# Also have a max capacity and number of vehicles to define\n",
    "NUM_TRUCKS = 4\n",
    "CAPACITY = 5"
   ]
  },
  {
   "cell_type": "markdown",
   "metadata": {},
   "source": [
    "### Step 2: Build your base VRP model with no subtour elimination constraints like we did in class.\n",
    "### Recall that there were only 2 constraints in our model"
   ]
  },
  {
   "cell_type": "markdown",
   "metadata": {},
   "source": [
    "#### Decision Variables"
   ]
  },
  {
   "cell_type": "code",
   "execution_count": 3,
   "metadata": {},
   "outputs": [],
   "source": [
    "# Create model, define binary variables\n",
    "model = pyo.ConcreteModel()\n",
    "\n",
    "model.x = pyo.Var(EDGES,domain=pyo.Binary)"
   ]
  },
  {
   "cell_type": "markdown",
   "metadata": {},
   "source": [
    "#### Objective function"
   ]
  },
  {
   "cell_type": "code",
   "execution_count": 4,
   "metadata": {},
   "outputs": [],
   "source": [
    "# Minimize total distance traveled\n",
    "def obj_rule(model):\n",
    "    return sum(DISTANCE[v,w]*model.x[v,w] for v,w in EDGES)\n",
    "model.obj = pyo.Objective(rule=obj_rule, sense=pyo.minimize)"
   ]
  },
  {
   "cell_type": "markdown",
   "metadata": {},
   "source": [
    "#### Constraints"
   ]
  },
  {
   "cell_type": "code",
   "execution_count": 5,
   "metadata": {},
   "outputs": [],
   "source": [
    "# 8 edges to node 0\n",
    "def hub_degree_rule(model):\n",
    "    return sum(model.x[0,c] for c in CUSTOMERS)==2*NUM_TRUCKS\n",
    "model.hub_degree_const = pyo.Constraint(rule=hub_degree_rule)\n",
    "\n",
    "# 2 edges to every customer\n",
    "def cust_degree_rule(model, cust):\n",
    "    return sum(model.x[v,w] for v,w in EDGES if v==cust or w==cust)==2\n",
    "model.cust_degree_rule = pyo.Constraint(CUSTOMERS,rule=cust_degree_rule)"
   ]
  },
  {
   "cell_type": "markdown",
   "metadata": {},
   "source": [
    "### Step 3: Solve the problem and print your solution."
   ]
  },
  {
   "cell_type": "code",
   "execution_count": 6,
   "metadata": {},
   "outputs": [
    {
     "name": "stdout",
     "output_type": "stream",
     "text": [
      "optimal\n"
     ]
    }
   ],
   "source": [
    "solver_result = pyo.SolverFactory('glpk').solve(model)\n",
    "solve_status = solver_result.solver.termination_condition\n",
    "print(solve_status)"
   ]
  },
  {
   "cell_type": "code",
   "execution_count": 7,
   "metadata": {},
   "outputs": [
    {
     "name": "stdout",
     "output_type": "stream",
     "text": [
      "Cumulative distance: 44.59856358193051\n",
      "Edges: [(0, 2), (0, 5), (0, 7), (0, 8), (0, 9), (0, 10), (0, 12), (0, 13), (1, 4), (1, 16), (2, 6), (3, 4), (3, 16), (5, 7), (6, 8), (9, 14), (10, 14), (11, 12), (11, 15), (13, 15)]\n",
      "\n"
     ]
    }
   ],
   "source": [
    "solution=[(i,j) for i,j in EDGES if model.x[i,j]==1]\n",
    "print(f'Cumulative distance: {model.obj()}')\n",
    "print(f'Edges: {solution}\\n')"
   ]
  },
  {
   "cell_type": "markdown",
   "metadata": {},
   "source": [
    "### Step 4: Now, you need to iteratively add subtour elimination constraints to your model, resolve and get an optimal solution. \n",
    "\n",
    "You can do this manually like I did in the lesson 10 supplement file, or you can do it\n",
    "in an automated fashion. If you can figure out how to automate this process correctly with \n",
    "no user input then I will give you bonus points on your grade.\n",
    "\n",
    "Remember that each time you add a new constraint, you must re-solve, print your solution, determine if it\n",
    "is optimal and so on. I will walk you through the first iteration."
   ]
  },
  {
   "cell_type": "markdown",
   "metadata": {},
   "source": [
    "#### Step 4.1: Is your current solution optimal, why or why not?"
   ]
  },
  {
   "cell_type": "markdown",
   "metadata": {},
   "source": [
    "To answer: No, it is not optimal because there is a subtour on nodes 1, 4, 3, and 16"
   ]
  },
  {
   "cell_type": "markdown",
   "metadata": {},
   "source": [
    "#### Step 4.2: Define a set S1 to eliminate the subtour you want to eliminate. Also, define a function to create a constraint which eliminates this subtour and add this constraint to your model."
   ]
  },
  {
   "cell_type": "code",
   "execution_count": 8,
   "metadata": {},
   "outputs": [],
   "source": [
    "# Set on which I want to eliminate a subtour\n",
    "S1 = [1,4,3,16]\n",
    "# Num cars needed for this tour\n",
    "C_s = math.ceil(len(S1)/CAPACITY)\n",
    "def subtour_elim1(model):\n",
    "    return sum (model.x[i,j] for i,j in EDGES if i in S1 if j in S1) <= len(S1)-C_s\n",
    "model.subtour1_constr = pyo.Constraint(rule = subtour_elim1)"
   ]
  },
  {
   "cell_type": "markdown",
   "metadata": {},
   "source": [
    "#### Step 4.3: Re-solve the problem and print your solution. Is this solution optimal?"
   ]
  },
  {
   "cell_type": "code",
   "execution_count": 9,
   "metadata": {},
   "outputs": [
    {
     "name": "stdout",
     "output_type": "stream",
     "text": [
      "optimal\n",
      "Cumulative distance: 47.11916678656623\n",
      "Edges: [(0, 1), (0, 4), (0, 5), (0, 7), (0, 8), (0, 9), (0, 12), (0, 13), (1, 16), (2, 6), (2, 10), (3, 4), (3, 16), (5, 7), (6, 8), (9, 14), (10, 14), (11, 12), (11, 15), (13, 15)]\n",
      "\n"
     ]
    }
   ],
   "source": [
    "solver_result = pyo.SolverFactory('glpk').solve(model)\n",
    "solve_status = solver_result.solver.termination_condition\n",
    "print(solve_status)\n",
    "solution=[(i,j) for i,j in EDGES if model.x[i,j]==1]\n",
    "print(f'Cumulative distance: {model.obj()}')\n",
    "print(f'Edges: {solution}\\n')"
   ]
  },
  {
   "cell_type": "markdown",
   "metadata": {},
   "source": [
    "#### Continue until you have an optimal solution. Report the optimal solution and the routes that each delivery person will take."
   ]
  },
  {
   "cell_type": "code",
   "execution_count": 10,
   "metadata": {},
   "outputs": [],
   "source": [
    "# Not optimal, tour too long 0-8-6-2-10-14-9-0\n",
    "S2 = [8,6,2,10,14,9]\n",
    "C_s = math.ceil(len(S2)/CAPACITY)\n",
    "def subtour_elim2(model):\n",
    "    return sum (model.x[i,j] for i,j in EDGES if i in S2 if j in S2) <= len(S2)-C_s\n",
    "model.subtour2_constr = pyo.Constraint(rule = subtour_elim2)"
   ]
  },
  {
   "cell_type": "code",
   "execution_count": 11,
   "metadata": {},
   "outputs": [
    {
     "name": "stdout",
     "output_type": "stream",
     "text": [
      "optimal\n",
      "Cumulative distance: 47.210734275992586\n",
      "Edges: [(0, 1), (0, 5), (0, 7), (0, 8), (0, 9), (0, 10), (0, 12), (0, 13), (1, 7), (2, 5), (2, 6), (3, 4), (3, 16), (4, 16), (6, 8), (9, 14), (10, 14), (11, 12), (11, 15), (13, 15)]\n",
      "\n"
     ]
    }
   ],
   "source": [
    "solver_result = pyo.SolverFactory('glpk').solve(model)\n",
    "solve_status = solver_result.solver.termination_condition\n",
    "print(solve_status)\n",
    "solution=[(i,j) for i,j in EDGES if model.x[i,j]==1]\n",
    "print(f'Cumulative distance: {model.obj()}')\n",
    "print(f'Edges: {solution}\\n')"
   ]
  },
  {
   "cell_type": "code",
   "execution_count": 12,
   "metadata": {},
   "outputs": [],
   "source": [
    "# Not optimal subtour on 3-4-16-3\n",
    "S3 = [3,4,16]\n",
    "C_s = math.ceil(len(S3)/CAPACITY)\n",
    "def subtour_elim3(model):\n",
    "    return sum (model.x[i,j] for i,j in EDGES if i in S3 if j in S3) <= len(S3)-C_s\n",
    "model.subtour3_constr = pyo.Constraint(rule = subtour_elim3)"
   ]
  },
  {
   "cell_type": "code",
   "execution_count": 13,
   "metadata": {},
   "outputs": [
    {
     "name": "stdout",
     "output_type": "stream",
     "text": [
      "optimal\n",
      "Cumulative distance: 47.32263543913479\n",
      "Edges: [(0, 1), (0, 2), (0, 4), (0, 5), (0, 7), (0, 8), (0, 9), (0, 10), (1, 16), (2, 6), (3, 4), (3, 16), (5, 7), (6, 8), (9, 14), (10, 14), (11, 12), (11, 15), (12, 13), (13, 15)]\n",
      "\n"
     ]
    }
   ],
   "source": [
    "solver_result = pyo.SolverFactory('glpk').solve(model)\n",
    "solve_status = solver_result.solver.termination_condition\n",
    "print(solve_status)\n",
    "solution=[(i,j) for i,j in EDGES if model.x[i,j]==1]\n",
    "print(f'Cumulative distance: {model.obj()}')\n",
    "print(f'Edges: {solution}\\n')"
   ]
  },
  {
   "cell_type": "code",
   "execution_count": 14,
   "metadata": {},
   "outputs": [],
   "source": [
    "# Not optimal, subtour on 11-12-13-15-11\n",
    "S4 = [11,12,13,15]\n",
    "C_s = math.ceil(len(S4)/CAPACITY)\n",
    "def subtour_elim4(model):\n",
    "    return sum (model.x[i,j] for i,j in EDGES if i in S4 if j in S4) <= len(S4)-C_s\n",
    "model.subtour4_constr = pyo.Constraint(rule = subtour_elim4)"
   ]
  },
  {
   "cell_type": "code",
   "execution_count": 15,
   "metadata": {},
   "outputs": [
    {
     "name": "stdout",
     "output_type": "stream",
     "text": [
      "optimal\n",
      "Cumulative distance: 47.5670254457392\n",
      "Edges: [(0, 4), (0, 5), (0, 7), (0, 8), (0, 9), (0, 10), (0, 12), (0, 13), (1, 7), (1, 16), (2, 5), (2, 6), (3, 4), (3, 16), (6, 8), (9, 14), (10, 14), (11, 12), (11, 15), (13, 15)]\n",
      "\n"
     ]
    }
   ],
   "source": [
    "solver_result = pyo.SolverFactory('glpk').solve(model)\n",
    "solve_status = solver_result.solver.termination_condition\n",
    "print(solve_status)\n",
    "solution=[(i,j) for i,j in EDGES if model.x[i,j]==1]\n",
    "print(f'Cumulative distance: {model.obj()}')\n",
    "print(f'Edges: {solution}\\n')"
   ]
  },
  {
   "cell_type": "code",
   "execution_count": 16,
   "metadata": {},
   "outputs": [],
   "source": [
    "# Optimal Hooray\n",
    "# Tours are:\n",
    "# 0-4-3-16-1-7-0\n",
    "# 0-5-2-6-8-0\n",
    "# 0-9-14-10-0\n",
    "# 0-12-11-15-13-0"
   ]
  },
  {
   "cell_type": "code",
   "execution_count": null,
   "metadata": {},
   "outputs": [],
   "source": []
  }
 ],
 "metadata": {
  "kernelspec": {
   "display_name": "Python 3",
   "language": "python",
   "name": "python3"
  },
  "language_info": {
   "codemirror_mode": {
    "name": "ipython",
    "version": 3
   },
   "file_extension": ".py",
   "mimetype": "text/x-python",
   "name": "python",
   "nbconvert_exporter": "python",
   "pygments_lexer": "ipython3",
   "version": "3.6.9"
  },
  "varInspector": {
   "cols": {
    "lenName": 16,
    "lenType": 16,
    "lenVar": 40
   },
   "kernels_config": {
    "python": {
     "delete_cmd_postfix": "",
     "delete_cmd_prefix": "del ",
     "library": "var_list.py",
     "varRefreshCmd": "print(var_dic_list())"
    },
    "r": {
     "delete_cmd_postfix": ") ",
     "delete_cmd_prefix": "rm(",
     "library": "var_list.r",
     "varRefreshCmd": "cat(var_dic_list()) "
    }
   },
   "types_to_exclude": [
    "module",
    "function",
    "builtin_function_or_method",
    "instance",
    "_Feature"
   ],
   "window_display": false
  }
 },
 "nbformat": 4,
 "nbformat_minor": 4
}
