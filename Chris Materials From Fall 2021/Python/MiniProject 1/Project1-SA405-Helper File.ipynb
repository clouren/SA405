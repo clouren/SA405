{
 "cells": [
  {
   "cell_type": "markdown",
   "metadata": {},
   "source": [
    "## READ Prior to Starting Project 1\n",
    "\n",
    "In this project, you will have to create edges and do sums across them. You can create a set of edges just like you would create any 2 dimensional set. For example, suppose my nodes are:\n",
    "\n",
    "N = {1,2,3,4}\n",
    "\n",
    "And my edges are:\n",
    "\n",
    "E = {(1,2), (1,3), (1,4), (2,3), (2,4), (3,4)}\n",
    "\n",
    "Then, I can declare my nodes/edges in python as:"
   ]
  },
  {
   "cell_type": "code",
   "execution_count": null,
   "metadata": {},
   "outputs": [],
   "source": [
    "N = [1,2,3,4]\n",
    "E = [(1,2),(1,3),(1,4),(2,3),(2,4),(3,4)]"
   ]
  },
  {
   "cell_type": "markdown",
   "metadata": {},
   "source": [
    "The parameters will be defined just as you do any 2 dimensional parameter\n",
    "\n",
    "Next, many of the models do sums across edges with one of the indices fixed. For example, if we want to sum across all edges where the first index is 1, then we can do this as follows:"
   ]
  },
  {
   "cell_type": "code",
   "execution_count": null,
   "metadata": {},
   "outputs": [],
   "source": [
    "import pyomo.environ as pyo"
   ]
  },
  {
   "cell_type": "code",
   "execution_count": null,
   "metadata": {},
   "outputs": [],
   "source": [
    "model = pyo.ConcreteModel()\n",
    "    \n",
    "# Decision variables\n",
    "model.x = pyo.Var(E, domain=pyo.NonNegativeIntegers)\n",
    "\n",
    "# This will sum x[i,j] across all edges if the first index is equal to 1 and set it <= 2\n",
    "def test_const(model):\n",
    "    return sum(model.x[i,j] for (i,j) in E if i == 1) <= 2\n",
    "model.test_constraint = pyo.Constraint(rule=test_const)\n",
    "\n",
    "# Print to see if it's correct \n",
    "print(model.test_constraint.expr)\n",
    "\n",
    "# Note that you MUST do it this way in your sums doing soemthing like\n",
    "# model.x[1,j] will not work appropriately if you have i and j indices"
   ]
  },
  {
   "cell_type": "markdown",
   "metadata": {},
   "source": [
    "Using this plus the tips from lab 1 should help you complete this project.\n",
    "\n",
    "If you'd like you can continue your project 1 coding here:"
   ]
  },
  {
   "cell_type": "markdown",
   "metadata": {},
   "source": [
    "### Sets, Parameters"
   ]
  },
  {
   "cell_type": "code",
   "execution_count": null,
   "metadata": {},
   "outputs": [],
   "source": []
  },
  {
   "cell_type": "markdown",
   "metadata": {},
   "source": [
    "### Create Model and Variables"
   ]
  },
  {
   "cell_type": "code",
   "execution_count": null,
   "metadata": {},
   "outputs": [],
   "source": []
  },
  {
   "cell_type": "markdown",
   "metadata": {},
   "source": [
    "### Constraints"
   ]
  },
  {
   "cell_type": "code",
   "execution_count": null,
   "metadata": {},
   "outputs": [],
   "source": []
  },
  {
   "cell_type": "markdown",
   "metadata": {},
   "source": [
    "### Solve the model and check its status"
   ]
  },
  {
   "cell_type": "code",
   "execution_count": null,
   "metadata": {},
   "outputs": [],
   "source": []
  },
  {
   "cell_type": "markdown",
   "metadata": {},
   "source": [
    "### Print the solution neatly"
   ]
  },
  {
   "cell_type": "code",
   "execution_count": null,
   "metadata": {},
   "outputs": [],
   "source": []
  }
 ],
 "metadata": {
  "kernelspec": {
   "display_name": "Python 3",
   "language": "python",
   "name": "python3"
  },
  "language_info": {
   "codemirror_mode": {
    "name": "ipython",
    "version": 3
   },
   "file_extension": ".py",
   "mimetype": "text/x-python",
   "name": "python",
   "nbconvert_exporter": "python",
   "pygments_lexer": "ipython3",
   "version": "3.6.9"
  },
  "varInspector": {
   "cols": {
    "lenName": 16,
    "lenType": 16,
    "lenVar": 40
   },
   "kernels_config": {
    "python": {
     "delete_cmd_postfix": "",
     "delete_cmd_prefix": "del ",
     "library": "var_list.py",
     "varRefreshCmd": "print(var_dic_list())"
    },
    "r": {
     "delete_cmd_postfix": ") ",
     "delete_cmd_prefix": "rm(",
     "library": "var_list.r",
     "varRefreshCmd": "cat(var_dic_list()) "
    }
   },
   "types_to_exclude": [
    "module",
    "function",
    "builtin_function_or_method",
    "instance",
    "_Feature"
   ],
   "window_display": false
  }
 },
 "nbformat": 4,
 "nbformat_minor": 4
}
