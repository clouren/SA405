{
 "cells": [
  {
   "cell_type": "code",
   "execution_count": 1,
   "metadata": {},
   "outputs": [],
   "source": [
    "import pyomo.environ as pyo"
   ]
  },
  {
   "cell_type": "code",
   "execution_count": 2,
   "metadata": {},
   "outputs": [],
   "source": [
    "NODES = ['DB', 'KB', 'KW', 'SW', 'GW', 'DM', 'GM', 'CM', 'DUMMY']\n",
    "WAREHOUSES = ['KW','SW','GW']\n",
    "ARCS = [('DB','DM'),('DB','KW'),('DB','SW'),('DB','GW'),('DB','DUMMY'),\n",
    "        ('KB','KW'),('KB','SW'),('KB','GW'),('KB','DUMMY'),\n",
    "        ('KW','DM'),('KW','GM'),('KW','CM'),\n",
    "        ('SW','DM'),('SW','GM'),('SW','CM'),\n",
    "        ('GW','DM'),('GW','GM'),('GW','CM')]\n",
    "\n",
    "# Parameters\n",
    "B = {'DB':700, 'KB':800, 'KW':0, 'SW':0, 'GW':0,\n",
    "     'DM':-600, 'GM':-500, 'CM':-300, 'DUMMY':-100}\n",
    "\n",
    "\n",
    "COST = {('DB','DM'):18,('DB','KW'):15,('DB','SW'):20,('DB','GW'):15,('DB','DUMMY'):0,\n",
    "        ('KB','KW'):10,('KB','SW'):25,('KB','GW'):20,('KB','DUMMY'):0,\n",
    "        ('KW','DM'):16,('KW','GM'):12,('KW','CM'):11,\n",
    "        ('SW','DM'):21,('SW','GM'):9,('SW','CM'):28,\n",
    "        ('GW','DM'):16,('GW','GM'):5,('GW','CM'):12}\n",
    "RENT = {'KW':240, 'SW':450, 'GW':320}\n",
    "CAPACITY = {'KW':400, 'SW':800,'GW':600}"
   ]
  },
  {
   "cell_type": "code",
   "execution_count": 3,
   "metadata": {},
   "outputs": [],
   "source": [
    " model = pyo.ConcreteModel()\n",
    "    \n",
    "    # Decision variables\n",
    "model.x = pyo.Var(ARCS, domain=pyo.NonNegativeIntegers)\n",
    "model.z = pyo.Var(WAREHOUSES, domain=pyo.Binary)\n",
    "    "
   ]
  },
  {
   "cell_type": "code",
   "execution_count": 4,
   "metadata": {},
   "outputs": [],
   "source": [
    "# Objective function\n",
    "def obj_rule(model):\n",
    "    return (sum(COST[i,j]*model.x[i,j] for i,j in ARCS) +\n",
    "            sum(RENT[w]*model.z[w] for w in WAREHOUSES))\n",
    "model.obj = pyo.Objective(rule=obj_rule)"
   ]
  },
  {
   "cell_type": "code",
   "execution_count": 5,
   "metadata": {},
   "outputs": [],
   "source": [
    "# Balance of flow\n",
    "def balance_rule(model, node):\n",
    "    return (sum(model.x[i,j] for i,j in ARCS if i==node) \n",
    "            - sum(model.x[i,j] for i,j in ARCS if j==node)\n",
    "            == B[node])\n",
    "model.balance_constraint = pyo.Constraint(NODES,rule=balance_rule)"
   ]
  },
  {
   "cell_type": "code",
   "execution_count": 6,
   "metadata": {},
   "outputs": [],
   "source": [
    "# Weak fixed charge & warehouse capacity\n",
    "def weak_rule(model, wh):\n",
    "    return (sum(model.x[i,j] for i,j in ARCS if j==wh)\n",
    "            <= CAPACITY[wh]*model.z[wh])\n",
    "model.weak_constraint = pyo.Constraint(WAREHOUSES,rule=weak_rule)"
   ]
  },
  {
   "cell_type": "code",
   "execution_count": 7,
   "metadata": {},
   "outputs": [
    {
     "name": "stdout",
     "output_type": "stream",
     "text": [
      "Min cose (transport + rent) is 29360.0\n",
      "\n",
      "Warehouse KW is used\n",
      "Warehouse SW is not used\n",
      "Warehouse GW is used\n",
      "\n",
      "Cases shipped:\n",
      "DB to DM: 600.0\n",
      "DB to GW: 100.0\n",
      "KB to KW: 400.0\n",
      "KB to GW: 300.0\n",
      "KB to DUMMY: 100.0\n",
      "KW to GM: 100.0\n",
      "KW to CM: 300.0\n",
      "GW to GM: 400.0\n",
      "\n",
      "All other flows are 0\n"
     ]
    }
   ],
   "source": [
    "# solve model\n",
    "solver_result = pyo.SolverFactory('glpk').solve(model)\n",
    "\n",
    "# Check if the model solved to optimality before printing solution\n",
    "solve_status = solver_result.solver.termination_condition\n",
    "if (solve_status==pyo.TerminationCondition.optimal):\n",
    "    print(f'Min cose (transport + rent) is {model.obj()}\\n')\n",
    "    for w in WAREHOUSES:\n",
    "        if model.z[w]==0:\n",
    "            print(f'Warehouse {w} is not used')\n",
    "        else:\n",
    "            print(f'Warehouse {w} is used') \n",
    "    print('')\n",
    "    print('Cases shipped:')\n",
    "    for (i,j) in ARCS:\n",
    "        if model.x[i,j].value != 0:\n",
    "           print(f'{i} to {j}: {model.x[i,j].value}')\n",
    "    print('\\nAll other flows are 0')\n",
    "else:\n",
    "    print(f'The solver status is {solve_status}')"
   ]
  },
  {
   "cell_type": "code",
   "execution_count": null,
   "metadata": {},
   "outputs": [],
   "source": []
  },
  {
   "cell_type": "code",
   "execution_count": null,
   "metadata": {},
   "outputs": [],
   "source": []
  }
 ],
 "metadata": {
  "kernelspec": {
   "display_name": "Python 3",
   "language": "python",
   "name": "python3"
  },
  "language_info": {
   "codemirror_mode": {
    "name": "ipython",
    "version": 3
   },
   "file_extension": ".py",
   "mimetype": "text/x-python",
   "name": "python",
   "nbconvert_exporter": "python",
   "pygments_lexer": "ipython3",
   "version": "3.6.9"
  },
  "varInspector": {
   "cols": {
    "lenName": 16,
    "lenType": 16,
    "lenVar": 40
   },
   "kernels_config": {
    "python": {
     "delete_cmd_postfix": "",
     "delete_cmd_prefix": "del ",
     "library": "var_list.py",
     "varRefreshCmd": "print(var_dic_list())"
    },
    "r": {
     "delete_cmd_postfix": ") ",
     "delete_cmd_prefix": "rm(",
     "library": "var_list.r",
     "varRefreshCmd": "cat(var_dic_list()) "
    }
   },
   "types_to_exclude": [
    "module",
    "function",
    "builtin_function_or_method",
    "instance",
    "_Feature"
   ],
   "window_display": false
  }
 },
 "nbformat": 4,
 "nbformat_minor": 4
}
