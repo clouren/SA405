{
 "cells": [
  {
   "cell_type": "code",
   "execution_count": 1,
   "metadata": {},
   "outputs": [],
   "source": [
    "import pyomo.environ as pyo\n",
    "\n",
    "import time"
   ]
  },
  {
   "cell_type": "code",
   "execution_count": 2,
   "metadata": {},
   "outputs": [],
   "source": [
    "def guinness_abstract(nodes, warehouses, arcs, b, cost, rent, capacity):\n",
    "    \"\"\"\n",
    "    Return the abstract model for the Guinness fixed charge min cost\n",
    "    network flow problem\n",
    "    \n",
    "    Keyword arguments:\n",
    "    nodes -- list of nodes\n",
    "    warehouses -- list of warehouses (subset of nodes)\n",
    "    arcs -- list of arcs as tuples (ordered pairs of nodes)\n",
    "    b -- supply - demand at node n (dict with nodes as keys)\n",
    "    cost -- per case transport cost (dict with arcs as keys)\n",
    "    rent -- monthly fixed charge (dict with warehouses as keys)\n",
    "    capacity -- flow through capacity (dict with warehouses as keys)\n",
    "    \n",
    "    Return:\n",
    "    Pyomo model\n",
    "    \"\"\"\n",
    "    model = pyo.ConcreteModel()\n",
    "    \n",
    "    # Decision variables\n",
    "    model.x = pyo.Var(arcs, domain=pyo.NonNegativeIntegers)\n",
    "    model.z = pyo.Var(warehouses, domain=pyo.Binary)\n",
    "    \n",
    "    # Objective function\n",
    "    def obj_rule(model):\n",
    "        return (sum(cost[i,j]*model.x[i,j] for i,j in arcs) +\n",
    "                sum(rent[w]*model.z[w] for w in warehouses))\n",
    "    model.obj = pyo.Objective(rule=obj_rule)\n",
    "    \n",
    "    # Balance of flow\n",
    "    def balance_rule(model, node):\n",
    "        return (sum(model.x[i,j] for i,j in arcs if i==node) \n",
    "                - sum(model.x[i,j] for i,j in arcs if j==node)\n",
    "                == b[node])\n",
    "    model.balance_constraint = pyo.Constraint(nodes,rule=balance_rule)\n",
    "    \n",
    "    # Weak fixed charge & warehouse capacity\n",
    "    def weak_rule(model, wh):\n",
    "        return (sum(model.x[i,j] for i,j in arcs if j==wh)\n",
    "                <= capacity[wh]*model.z[wh])\n",
    "    model.weak_constraint = pyo.Constraint(warehouses,rule=weak_rule)\n",
    "    \n",
    "    return model"
   ]
  },
  {
   "cell_type": "code",
   "execution_count": 3,
   "metadata": {},
   "outputs": [],
   "source": [
    "# Sets\n",
    "NODES = ['DB', 'KB', 'KW', 'SW', 'DM', 'GM', 'CM', 'DUMMY']\n",
    "WAREHOUSES = ['KW', 'SW']\n",
    "ARCS = [('DB','DM'),('DB','KW'),('DB','SW'),('DB','DUMMY'),\n",
    "        ('KB','KW'),('KB','SW'),('KB','DUMMY'),\n",
    "        ('KW','DM'),('KW','GM'),('KW','CM'),\n",
    "        ('SW','DM'),('SW','GM'),('SW','CM')]\n",
    "\n",
    "# Parameters\n",
    "B = {'DB':400, 'KB':500, 'KW':0, 'SW':0, \n",
    "     'DM':-500, 'GM':-200, 'CM':-100, 'DUMMY':-100}\n",
    "COST = {('DB','DM'):18,('DB','KW'):15,('DB','SW'):20,('DB','DUMMY'):0,\n",
    "        ('KB','KW'):10,('KB','SW'):25,('KB','DUMMY'):0,\n",
    "        ('KW','DM'):16,('KW','GM'):12,('KW','CM'):11,\n",
    "        ('SW','DM'):21,('SW','GM'):9,('SW','CM'):28}\n",
    "RENT = {'KW':240, 'SW':450}\n",
    "CAPACITY = {'KW':400, 'SW':800}"
   ]
  },
  {
   "cell_type": "code",
   "execution_count": 4,
   "metadata": {},
   "outputs": [
    {
     "name": "stdout",
     "output_type": "stream",
     "text": [
      "0.1233363151550293\n"
     ]
    }
   ],
   "source": [
    "start = time.time()\n",
    "\n",
    "\n",
    "# Build model\n",
    "model = guinness_abstract(nodes=NODES, warehouses=WAREHOUSES, \n",
    "                          arcs=ARCS, b=B, cost=COST, \n",
    "                          rent=RENT, capacity=CAPACITY)\n",
    "\n",
    "# solve model\n",
    "pyo.SolverFactory('glpk').solve(model)\n",
    "\n",
    "\n",
    "end = time.time()\n",
    "print(end - start)"
   ]
  },
  {
   "cell_type": "code",
   "execution_count": null,
   "metadata": {},
   "outputs": [],
   "source": []
  },
  {
   "cell_type": "code",
   "execution_count": null,
   "metadata": {},
   "outputs": [],
   "source": []
  }
 ],
 "metadata": {
  "kernelspec": {
   "display_name": "Python 3",
   "language": "python",
   "name": "python3"
  },
  "language_info": {
   "codemirror_mode": {
    "name": "ipython",
    "version": 3
   },
   "file_extension": ".py",
   "mimetype": "text/x-python",
   "name": "python",
   "nbconvert_exporter": "python",
   "pygments_lexer": "ipython3",
   "version": "3.6.9"
  },
  "varInspector": {
   "cols": {
    "lenName": 16,
    "lenType": 16,
    "lenVar": 40
   },
   "kernels_config": {
    "python": {
     "delete_cmd_postfix": "",
     "delete_cmd_prefix": "del ",
     "library": "var_list.py",
     "varRefreshCmd": "print(var_dic_list())"
    },
    "r": {
     "delete_cmd_postfix": ") ",
     "delete_cmd_prefix": "rm(",
     "library": "var_list.r",
     "varRefreshCmd": "cat(var_dic_list()) "
    }
   },
   "types_to_exclude": [
    "module",
    "function",
    "builtin_function_or_method",
    "instance",
    "_Feature"
   ],
   "window_display": false
  }
 },
 "nbformat": 4,
 "nbformat_minor": 4
}
