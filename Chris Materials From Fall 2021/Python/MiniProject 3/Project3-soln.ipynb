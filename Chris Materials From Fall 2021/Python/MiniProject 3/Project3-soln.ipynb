{
 "cells": [
  {
   "cell_type": "markdown",
   "metadata": {},
   "source": [
    "# SA405 Fall 2021\n",
    "## MiniProject 3: Facility location\n",
    "#### Emergency Services Locations\n",
    "\n",
    "Read through the provided notebook. Make sure you understand Step 1 completely before moving on"
   ]
  },
  {
   "cell_type": "code",
   "execution_count": 1,
   "metadata": {},
   "outputs": [],
   "source": [
    "import pyomo.environ as pyo\n",
    "import math"
   ]
  },
  {
   "cell_type": "markdown",
   "metadata": {},
   "source": [
    "### Step 1: Given Data"
   ]
  },
  {
   "cell_type": "code",
   "execution_count": 2,
   "metadata": {},
   "outputs": [],
   "source": [
    "# Make sure you understand what all of these are!\n",
    "# These are all the sets and parameters you need for the model\n",
    "# It may be helpful to print them to understand what each one is\n",
    "\n",
    "# Sets\n",
    "CUSTOMERS =  list(range(1,41))  # [1,2,...,40]\n",
    "# Half of the locations are eligible\n",
    "LOCATIONS = [1, 2, 4, 5, 8, 12, 14, 16, 19, 17, 21, 22, 23, 24, 27, 30, 32, 33, 35, 38]\n",
    "\n",
    "# Coordinates of each location on a 40*40 grid.\n",
    "c = [(33,31), (15,14), (19,39), (16,23), (13,17), (8,27), (15,26), (40,22), (0,2),\n",
    "     (28,19), (12,40), (10,13), (36,11), (16,32), (3,13), (40,12), (2,0), (4,24), (7,15),\n",
    "     (4,31), (29,6), (31,19), (29,37), (21,22), (9,20), (37,11), (20,17), (22,33), (8,10),\n",
    "     (13,24), (22,23), (32,22), (35,14), (15,14), (27,38), (2,17), (15,34), (6,25),(17,31),(21,38)]\n",
    "COORD = {i:c[i-1] for i in CUSTOMERS}\n",
    "\n",
    "# Distance between every two nodes (direct)\n",
    "DISTANCE = {(v,w): math.sqrt((COORD[v][0]-COORD[w][0])**2 +(COORD[v][1]-COORD[w][1])**2)\n",
    "            for v in LOCATIONS for w in CUSTOMERS}\n",
    "\n",
    "# Demand of each customer\n",
    "d = [76, 47, 32, 93, 51, 81, 12, 21, 17, 52, 57, 96, 42, 28, 24, 68, 71, 69, 39,\n",
    "     100, 53, 88, 38, 35, 66, 66, 57, 94, 81, 54, 14, 73, 22, 100, 86, 17, 39, 78, 57, 53]\n",
    "\n",
    "DEMAND = {i:d[i-1] for i in CUSTOMERS}\n",
    "\n",
    "# Cost of each police station\n",
    "c = [470000, 200000, 910000, 320000, 800000, 860000, 840000, 900000, 270000, 850000, 400000, 720000,\n",
    "     370000, 710000, 770000, 540000, 850000, 400000,750000, 730000, 530000]\n",
    "count = 0\n",
    "COST = {}\n",
    "for i in range(20):\n",
    "    COST[LOCATIONS[i]] = c[count]\n",
    "    count = count+1\n",
    "\n",
    "# Capacity of each location\n",
    "c = [470, 200, 910, 320, 800, 860, 840, 900, 270, 850, 400, 720,\n",
    "     370, 710, 770, 540, 850, 400, 750, 730, 530]\n",
    "count = 0\n",
    "CAPACITY = {}\n",
    "for i in range(20):\n",
    "    CAPACITY[LOCATIONS[i]] = c[count]\n",
    "    count = count+1\n",
    "    \n",
    "BUDGET = 2500000"
   ]
  },
  {
   "cell_type": "markdown",
   "metadata": {},
   "source": [
    "### Step 2: Implement model in Pyomo"
   ]
  },
  {
   "cell_type": "markdown",
   "metadata": {},
   "source": [
    "#### Define your Decision Variables"
   ]
  },
  {
   "cell_type": "code",
   "execution_count": 3,
   "metadata": {},
   "outputs": [],
   "source": [
    "# Create model, define binary variables\n",
    "model = pyo.ConcreteModel()\n",
    "\n",
    "model.x = pyo.Var(CUSTOMERS,domain=pyo.Binary)\n",
    "model.y = pyo.Var(LOCATIONS, CUSTOMERS,domain = pyo.Binary)"
   ]
  },
  {
   "cell_type": "markdown",
   "metadata": {},
   "source": [
    "#### Objective function"
   ]
  },
  {
   "cell_type": "code",
   "execution_count": 4,
   "metadata": {},
   "outputs": [],
   "source": [
    "# Minimize total distance traveled\n",
    "def obj_rule(model):\n",
    "    return sum(DEMAND[j] * DISTANCE[i,j]*model.y[i,j] for i in LOCATIONS for j in CUSTOMERS)\n",
    "model.obj = pyo.Objective(rule=obj_rule, sense=pyo.minimize)"
   ]
  },
  {
   "cell_type": "markdown",
   "metadata": {},
   "source": [
    "#### Constraints "
   ]
  },
  {
   "cell_type": "code",
   "execution_count": 5,
   "metadata": {},
   "outputs": [],
   "source": [
    "# Budget\n",
    "def station_rule(model):\n",
    "    return sum(COST[i] * model.x[i] for i in LOCATIONS) <= BUDGET\n",
    "model.station = pyo.Constraint(rule = station_rule)"
   ]
  },
  {
   "cell_type": "code",
   "execution_count": 6,
   "metadata": {},
   "outputs": [],
   "source": [
    "# Each assigned to one location\n",
    "def one_person_rule(model, j):\n",
    "    return sum(model.y[i,j] for i in LOCATIONS) == 1\n",
    "model.one_person = pyo.Constraint(CUSTOMERS, rule = one_person_rule)"
   ]
  },
  {
   "cell_type": "code",
   "execution_count": 7,
   "metadata": {},
   "outputs": [],
   "source": [
    "# Capacity of each station\n",
    "def cap_rule(model, i):\n",
    "    return sum(DEMAND[j]*model.y[i,j] for j in CUSTOMERS) <= CAPACITY[i]*model.x[i]\n",
    "model.cap = pyo.Constraint(LOCATIONS, rule = cap_rule)"
   ]
  },
  {
   "cell_type": "markdown",
   "metadata": {},
   "source": [
    "### Step 3: Solve the problem and neatly print your solution."
   ]
  },
  {
   "cell_type": "code",
   "execution_count": 8,
   "metadata": {},
   "outputs": [
    {
     "name": "stdout",
     "output_type": "stream",
     "text": [
      "optimal\n"
     ]
    }
   ],
   "source": [
    "solver_result = pyo.SolverFactory('glpk').solve(model)\n",
    "solve_status = solver_result.solver.termination_condition\n",
    "print(solve_status)"
   ]
  },
  {
   "cell_type": "code",
   "execution_count": 9,
   "metadata": {},
   "outputs": [
    {
     "name": "stdout",
     "output_type": "stream",
     "text": [
      "Cumulative distance: 14998.004303266878\n",
      "Stations Opened: [1, 2, 5, 19, 33, 38]\n",
      "\n",
      "Assignments: [(1, 1), (1, 8), (1, 23), (1, 28), (1, 32), (1, 35), (1, 40), (2, 2), (2, 24), (2, 34), (5, 4), (5, 5), (5, 12), (5, 27), (5, 31), (19, 9), (19, 15), (19, 17), (19, 19), (19, 29), (19, 36), (33, 10), (33, 13), (33, 16), (33, 21), (33, 22), (33, 26), (33, 33), (38, 3), (38, 6), (38, 7), (38, 11), (38, 14), (38, 18), (38, 20), (38, 25), (38, 30), (38, 37), (38, 38), (38, 39)]\n",
      "\n"
     ]
    }
   ],
   "source": [
    "solution=[(i,j) for i in LOCATIONS for j in CUSTOMERS if model.y[i,j]==1]\n",
    "solution2 = [i for i in LOCATIONS if model.x[i] == 1]\n",
    "print(f'Cumulative distance: {model.obj()}')\n",
    "print(f'Stations Opened: {solution2}\\n')\n",
    "print(f'Assignments: {solution}\\n')"
   ]
  },
  {
   "cell_type": "markdown",
   "metadata": {},
   "source": [
    "### Step 4: Part (b) of the project assignment. They are gifted funds to open 2 new police stations in addition to the ones already opened by solving the problem above.\n",
    "### HINT: Copy and paste your working model from above here and modify it as needed"
   ]
  },
  {
   "cell_type": "code",
   "execution_count": 10,
   "metadata": {},
   "outputs": [],
   "source": [
    "# Create model, define binary variables\n",
    "model = pyo.ConcreteModel()\n",
    "\n",
    "model.x = pyo.Var(CUSTOMERS,domain=pyo.Binary)\n",
    "model.y = pyo.Var(LOCATIONS, CUSTOMERS,domain = pyo.Binary)"
   ]
  },
  {
   "cell_type": "code",
   "execution_count": 11,
   "metadata": {},
   "outputs": [],
   "source": [
    "# Minimize total distance traveled\n",
    "def obj_rule(model):\n",
    "    return sum(DEMAND[j] * DISTANCE[i,j]*model.y[i,j] for i in LOCATIONS for j in CUSTOMERS)\n",
    "model.obj = pyo.Objective(rule=obj_rule, sense=pyo.minimize)"
   ]
  },
  {
   "cell_type": "code",
   "execution_count": 12,
   "metadata": {},
   "outputs": [],
   "source": [
    "# Total number of stations to open\n",
    "def station_rule(model):\n",
    "    return sum(model.x[i] for i in LOCATIONS) == len(solution2)+2\n",
    "model.station = pyo.Constraint(rule = station_rule)"
   ]
  },
  {
   "cell_type": "code",
   "execution_count": 13,
   "metadata": {},
   "outputs": [],
   "source": [
    "# Set opened stations\n",
    "def opened_rule(model,j):\n",
    "    return model.x[j] == 1\n",
    "model.opened = pyo.Constraint(solution2, rule=opened_rule)"
   ]
  },
  {
   "cell_type": "code",
   "execution_count": 14,
   "metadata": {},
   "outputs": [],
   "source": [
    "# Each assigned to one location\n",
    "def one_person_rule(model, j):\n",
    "    return sum(model.y[i,j] for i in LOCATIONS) == 1\n",
    "model.one_person = pyo.Constraint(CUSTOMERS, rule = one_person_rule)"
   ]
  },
  {
   "cell_type": "code",
   "execution_count": 15,
   "metadata": {},
   "outputs": [],
   "source": [
    "# Capacity of each station\n",
    "def cap_rule(model, i):\n",
    "    return sum(DEMAND[j]*model.y[i,j] for j in CUSTOMERS) <= CAPACITY[i]*model.x[i]\n",
    "model.cap = pyo.Constraint(LOCATIONS, rule = cap_rule)"
   ]
  },
  {
   "cell_type": "code",
   "execution_count": 16,
   "metadata": {},
   "outputs": [
    {
     "name": "stdout",
     "output_type": "stream",
     "text": [
      "optimal\n"
     ]
    }
   ],
   "source": [
    "solver_result = pyo.SolverFactory('glpk').solve(model)\n",
    "solve_status = solver_result.solver.termination_condition\n",
    "print(solve_status)"
   ]
  },
  {
   "cell_type": "code",
   "execution_count": 17,
   "metadata": {},
   "outputs": [
    {
     "name": "stdout",
     "output_type": "stream",
     "text": [
      "Cumulative distance: 10463.498666808238\n",
      "Stations Opened: [1, 2, 5, 14, 19, 17, 33, 38]\n",
      "\n",
      "Assignments: [(1, 1), (1, 8), (1, 23), (1, 32), (1, 35), (2, 2), (2, 34), (5, 4), (5, 5), (5, 24), (5, 25), (5, 27), (14, 3), (14, 7), (14, 11), (14, 14), (14, 28), (14, 31), (14, 37), (14, 39), (14, 40), (19, 12), (19, 15), (19, 19), (19, 29), (19, 36), (17, 9), (17, 17), (33, 10), (33, 13), (33, 16), (33, 21), (33, 22), (33, 26), (33, 33), (38, 6), (38, 18), (38, 20), (38, 30), (38, 38)]\n",
      "\n"
     ]
    }
   ],
   "source": [
    "solution=[(i,j) for i in LOCATIONS for j in CUSTOMERS if model.y[i,j]==1]\n",
    "solution2 = [i for i in LOCATIONS if model.x[i] == 1]\n",
    "print(f'Cumulative distance: {model.obj()}')\n",
    "print(f'Stations Opened: {solution2}\\n')\n",
    "print(f'Assignments: {solution}\\n')"
   ]
  },
  {
   "cell_type": "markdown",
   "metadata": {},
   "source": [
    "### Step 4: Which new police stations are opened? How does this affect your objective function?"
   ]
  },
  {
   "cell_type": "code",
   "execution_count": 18,
   "metadata": {},
   "outputs": [],
   "source": [
    "# To answer\n",
    "# We now open 14 and 17 in addition to the original opened stations\n",
    "# This reduces our objectuve function by 4500 meaning that the cumulative distance traveled is decreased\n",
    "# Significantly with two new stations"
   ]
  }
 ],
 "metadata": {
  "kernelspec": {
   "display_name": "Python 3",
   "language": "python",
   "name": "python3"
  },
  "language_info": {
   "codemirror_mode": {
    "name": "ipython",
    "version": 3
   },
   "file_extension": ".py",
   "mimetype": "text/x-python",
   "name": "python",
   "nbconvert_exporter": "python",
   "pygments_lexer": "ipython3",
   "version": "3.6.9"
  },
  "varInspector": {
   "cols": {
    "lenName": 16,
    "lenType": 16,
    "lenVar": 40
   },
   "kernels_config": {
    "python": {
     "delete_cmd_postfix": "",
     "delete_cmd_prefix": "del ",
     "library": "var_list.py",
     "varRefreshCmd": "print(var_dic_list())"
    },
    "r": {
     "delete_cmd_postfix": ") ",
     "delete_cmd_prefix": "rm(",
     "library": "var_list.r",
     "varRefreshCmd": "cat(var_dic_list()) "
    }
   },
   "types_to_exclude": [
    "module",
    "function",
    "builtin_function_or_method",
    "instance",
    "_Feature"
   ],
   "window_display": false
  }
 },
 "nbformat": 4,
 "nbformat_minor": 4
}
