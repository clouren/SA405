{
 "cells": [
  {
   "cell_type": "markdown",
   "metadata": {},
   "source": [
    "# SA405 Fall 2021\n",
    "## MiniProject 3: Facility location\n",
    "#### Emergency Services Locations\n",
    "\n",
    "Read through and complete the provided notebook. Make sure you understand Step 1 completely before moving on"
   ]
  },
  {
   "cell_type": "code",
   "execution_count": null,
   "metadata": {},
   "outputs": [],
   "source": [
    "import pyomo.environ as pyo\n",
    "import math"
   ]
  },
  {
   "cell_type": "markdown",
   "metadata": {},
   "source": [
    "### Step 1: Given Data"
   ]
  },
  {
   "cell_type": "code",
   "execution_count": null,
   "metadata": {},
   "outputs": [],
   "source": [
    "# Make sure you understand what all of these are!\n",
    "# These are all the sets and parameters you need for the model\n",
    "# It may be helpful to print them to understand what each one is\n",
    "\n",
    "# Sets\n",
    "CUSTOMERS =  list(range(1,41))  # [1,2,...,40]\n",
    "# Half of the locations are eligible\n",
    "LOCATIONS = [1, 2, 4, 5, 8, 12, 14, 16, 19, 17, 21, 22, 23, 24, 27, 30, 32, 33, 35, 38]\n",
    "\n",
    "# Coordinates of each location on a 40*40 grid.\n",
    "c = [(33,31), (15,14), (19,39), (16,23), (13,17), (8,27), (15,26), (40,22), (0,2),\n",
    "     (28,19), (12,40), (10,13), (36,11), (16,32), (3,13), (40,12), (2,0), (4,24), (7,15),\n",
    "     (4,31), (29,6), (31,19), (29,37), (21,22), (9,20), (37,11), (20,17), (22,33), (8,10),\n",
    "     (13,24), (22,23), (32,22), (35,14), (15,14), (27,38), (2,17), (15,34), (6,25),(17,31),(21,38)]\n",
    "COORD = {i:c[i-1] for i in CUSTOMERS}\n",
    "\n",
    "# Distance between every two nodes (direct)\n",
    "DISTANCE = {(v,w): math.sqrt((COORD[v][0]-COORD[w][0])**2 +(COORD[v][1]-COORD[w][1])**2)\n",
    "            for v in LOCATIONS for w in CUSTOMERS}\n",
    "\n",
    "# Demand of each customer\n",
    "d = [76, 47, 32, 93, 51, 81, 12, 21, 17, 52, 57, 96, 42, 28, 24, 68, 71, 69, 39,\n",
    "     100, 53, 88, 38, 35, 66, 66, 57, 94, 81, 54, 14, 73, 22, 100, 86, 17, 39, 78, 57, 53]\n",
    "\n",
    "DEMAND = {i:d[i-1] for i in CUSTOMERS}\n",
    "\n",
    "# Cost of each police station\n",
    "c = [470000, 200000, 910000, 320000, 800000, 860000, 840000, 900000, 270000, 850000, 400000, 720000,\n",
    "     370000, 710000, 770000, 540000, 850000, 400000,750000, 730000, 530000]\n",
    "count = 0\n",
    "COST = {}\n",
    "for i in range(20):\n",
    "    COST[LOCATIONS[i]] = c[count]\n",
    "    count = count+1\n",
    "\n",
    "# Capacity of each location\n",
    "c = [470, 200, 910, 320, 800, 860, 840, 900, 270, 850, 400, 720,\n",
    "     370, 710, 770, 540, 850, 400, 750, 730, 530]\n",
    "count = 0\n",
    "CAPACITY = {}\n",
    "for i in range(20):\n",
    "    CAPACITY[LOCATIONS[i]] = c[count]\n",
    "    count = count+1\n",
    "    \n",
    "BUDGET = 2500000"
   ]
  },
  {
   "cell_type": "markdown",
   "metadata": {},
   "source": [
    "### Step 2: Implement model in Pyomo"
   ]
  },
  {
   "cell_type": "markdown",
   "metadata": {},
   "source": [
    "#### Define your Decision Variables"
   ]
  },
  {
   "cell_type": "code",
   "execution_count": null,
   "metadata": {},
   "outputs": [],
   "source": []
  },
  {
   "cell_type": "markdown",
   "metadata": {},
   "source": [
    "#### Objective function"
   ]
  },
  {
   "cell_type": "code",
   "execution_count": null,
   "metadata": {},
   "outputs": [],
   "source": []
  },
  {
   "cell_type": "markdown",
   "metadata": {},
   "source": [
    "#### Constraints "
   ]
  },
  {
   "cell_type": "code",
   "execution_count": null,
   "metadata": {},
   "outputs": [],
   "source": []
  },
  {
   "cell_type": "markdown",
   "metadata": {},
   "source": [
    "### Step 3: Solve the problem and neatly print your solution."
   ]
  },
  {
   "cell_type": "code",
   "execution_count": null,
   "metadata": {},
   "outputs": [],
   "source": []
  },
  {
   "cell_type": "markdown",
   "metadata": {},
   "source": [
    "### Step 4: Part (b) of the project assignment. They are gifted funds to open 2 new police stations in addition to the ones already opened by solving the problem above. Determine which two new police stations should be opened.\n",
    "### HINT: Copy and paste your working model from above here and modify it as needed"
   ]
  },
  {
   "cell_type": "code",
   "execution_count": null,
   "metadata": {},
   "outputs": [],
   "source": []
  },
  {
   "cell_type": "markdown",
   "metadata": {},
   "source": [
    "### Step 4: Which new police stations are opened? How does this affect your objective function?"
   ]
  },
  {
   "cell_type": "code",
   "execution_count": null,
   "metadata": {},
   "outputs": [],
   "source": [
    "# To answer\n"
   ]
  }
 ],
 "metadata": {
  "kernelspec": {
   "display_name": "Python 3",
   "language": "python",
   "name": "python3"
  },
  "language_info": {
   "codemirror_mode": {
    "name": "ipython",
    "version": 3
   },
   "file_extension": ".py",
   "mimetype": "text/x-python",
   "name": "python",
   "nbconvert_exporter": "python",
   "pygments_lexer": "ipython3",
   "version": "3.6.9"
  },
  "varInspector": {
   "cols": {
    "lenName": 16,
    "lenType": 16,
    "lenVar": 40
   },
   "kernels_config": {
    "python": {
     "delete_cmd_postfix": "",
     "delete_cmd_prefix": "del ",
     "library": "var_list.py",
     "varRefreshCmd": "print(var_dic_list())"
    },
    "r": {
     "delete_cmd_postfix": ") ",
     "delete_cmd_prefix": "rm(",
     "library": "var_list.r",
     "varRefreshCmd": "cat(var_dic_list()) "
    }
   },
   "types_to_exclude": [
    "module",
    "function",
    "builtin_function_or_method",
    "instance",
    "_Feature"
   ],
   "window_display": false
  }
 },
 "nbformat": 4,
 "nbformat_minor": 4
}
