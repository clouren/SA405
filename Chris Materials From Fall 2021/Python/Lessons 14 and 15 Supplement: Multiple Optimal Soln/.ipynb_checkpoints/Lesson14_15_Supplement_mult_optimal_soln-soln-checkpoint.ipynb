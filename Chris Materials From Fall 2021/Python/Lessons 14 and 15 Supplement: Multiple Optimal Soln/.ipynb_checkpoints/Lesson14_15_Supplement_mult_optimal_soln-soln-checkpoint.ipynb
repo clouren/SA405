{
 "cells": [
  {
   "cell_type": "markdown",
   "metadata": {},
   "source": [
    "# SA405 Lesson 14/15 Supplement: Multiple Optimal Solutions\n",
    "\n",
    "### Today...\n",
    "\n",
    "- Solve an integer program and check for alternate optimal solutions\n",
    "- Solve a problem of your own\n",
    "- Submit the solved problem for quiz 6 grade"
   ]
  },
  {
   "cell_type": "markdown",
   "metadata": {},
   "source": [
    "#### Multiple optimal solutions\n",
    "\n",
    "In class this week, we talked about how every IP has exactly one of the following resolutions:\n",
    "1. Unique optimal solutions\n",
    "2. Multiple optimal solutions\n",
    "3. Unbounded\n",
    "4. Infeasible\n",
    "   \n",
    "Remember from SA305, in linear programming it's easy to find all 4. For multiple optimal solutions specifically, there are an infinite number of solutions in LP. In integer programming it is 'easy' to find 1, 3, and 4; but finding multiple optimal solutions is not as straightforward. Here we will see an example of doing that."
   ]
  },
  {
   "cell_type": "markdown",
   "metadata": {},
   "source": [
    "### Model to implement:\n",
    "\n",
    "A company is trying to send various items on a plane. The plane has 1000 $ft^3$ of cargo space and each item they want to bring has a certain volume it occupies as well as a usefulness to the company. The table below summarizes this information for each item. "
   ]
  },
  {
   "cell_type": "markdown",
   "metadata": {},
   "source": [
    "| Item Number | Volume (cubic feet) | Usefulness |\n",
    "| :- | -: | -: |\n",
    "| 1 | 850 | 2000 |\n",
    "| 2 | 300 | 700 |\n",
    "| 3 | 200 | 600 |\n",
    "| 4 | 275 | 400 |\n",
    "| 5 | 140 | 300 |\n",
    "| 6 | 525 | 900 |"
   ]
  },
  {
   "cell_type": "markdown",
   "metadata": {},
   "source": [
    "They formulate this as an integer program as follows:\n",
    "\n",
    "#### Sets:\n",
    "\n",
    "Let $I$ be the set of items\n",
    "\n",
    "#### Parameters:\n",
    "\n",
    "Let $v_i$ be the volume of item $i$ for all $i \\in I$\n",
    "\n",
    "Let $u_i$ be the usefulness of item $i$ for all $i \\in I$\n",
    "\n",
    "#### Variables:\n",
    "\n",
    "Let $x_i = 1$ if item $i$ is brought on the plane and $0$ otherwise for all $i \\in I$\n",
    "\n",
    "#### Objective:\n",
    "\n",
    "Maximize $\\displaystyle \\sum_{i \\in I} u_i x_{i}$\n",
    "\n",
    "#### Constraints:\n",
    "\n",
    "- (1)  $\\displaystyle \\sum_{i \\in I} v_i x_{i} \\leq 1000 $\n",
    "- (2)  $x_{i} \\in \\{0,1\\}$, $~\\forall~ i) \\in I$ \n"
   ]
  },
  {
   "cell_type": "code",
   "execution_count": 1,
   "metadata": {},
   "outputs": [],
   "source": [
    "import pyomo.environ as pyo"
   ]
  },
  {
   "cell_type": "markdown",
   "metadata": {},
   "source": [
    "### Define sets, parameters, and variables"
   ]
  },
  {
   "cell_type": "code",
   "execution_count": 2,
   "metadata": {},
   "outputs": [],
   "source": [
    "# Set of items\n",
    "I = [1,2,3,4,5,6]\n",
    "\n",
    "# Volume of each item\n",
    "V = {1:850, 2:300, 3:200, 4:275, 5:140, 6:525}\n",
    "# Usefulness of each item\n",
    "U = {1:2000, 2:700, 3:800, 4:500, 5:300, 6:900}"
   ]
  },
  {
   "cell_type": "code",
   "execution_count": 3,
   "metadata": {},
   "outputs": [],
   "source": [
    "# Create model and define x\n",
    "model = pyo.ConcreteModel()\n",
    "model.x = pyo.Var(I, domain=pyo.Boolean)"
   ]
  },
  {
   "cell_type": "markdown",
   "metadata": {},
   "source": [
    "### Define objective function and constraints"
   ]
  },
  {
   "cell_type": "code",
   "execution_count": 4,
   "metadata": {},
   "outputs": [],
   "source": [
    "def obj_rule(model):\n",
    "    return sum(model.x[i]*U[i] for i in I)\n",
    "model.obj = pyo.Objective(rule=obj_rule, sense = pyo.maximize)"
   ]
  },
  {
   "cell_type": "code",
   "execution_count": 5,
   "metadata": {},
   "outputs": [],
   "source": [
    "# Volume Constraint\n",
    "def volume_rule(model):\n",
    "    return sum(model.x[i] * V[i] for i in I) <= 1000\n",
    "model.vol_constr = pyo.Constraint(rule = volume_rule)"
   ]
  },
  {
   "cell_type": "markdown",
   "metadata": {},
   "source": [
    "### Solve the model and print the solution"
   ]
  },
  {
   "cell_type": "code",
   "execution_count": 6,
   "metadata": {},
   "outputs": [
    {
     "name": "stdout",
     "output_type": "stream",
     "text": [
      "optimal\n",
      "Total usefulness: 2300.0\n",
      "You should bring item: 2\n",
      "You should bring item: 3\n",
      "You should bring item: 4\n",
      "You should bring item: 5\n"
     ]
    }
   ],
   "source": [
    "solver_result = pyo.SolverFactory('glpk').solve(model)\n",
    "solve_status = solver_result.solver.termination_condition\n",
    "print(solve_status)\n",
    "print(f'Total usefulness: {model.obj()}')\n",
    "for i in I:\n",
    "    if model.x[i] == 1:\n",
    "        print(f'You should bring item: {i}')"
   ]
  },
  {
   "cell_type": "markdown",
   "metadata": {},
   "source": [
    "The optimal solution says we should bring items 2, 3, 4, and 5. So the question now is, is there another solution, with the same objective function value as this one? (Recall if two solutions have the same objective function value they are both optimal. There are several ways to do this in IP.\n",
    "\n",
    "If all of our variables are **binary** the easiest strategy is to force one of our current optimal variables to be equal to 0. That is, currently **4** of our variables are nonzero, x[2], x[3], x[4], and x[5]. If I add the constraint x[2]+x[3]+x[4]+x[5] <= 3 to the model, it will force the solver to find a new solution where these are not the 4 items picked. If this new solution has the same objective function value; then we have **multiple optimal solutions**"
   ]
  },
  {
   "cell_type": "markdown",
   "metadata": {},
   "source": [
    "### Add the new constraint to the model"
   ]
  },
  {
   "cell_type": "code",
   "execution_count": 7,
   "metadata": {},
   "outputs": [],
   "source": [
    "# define a set S which is the variable indices to remove (kinda like subtour elim)\n",
    "S = [2,3,4,5]\n",
    "def new_soln_rule(model):\n",
    "    return sum (model.x[i] for i in I if i in S) <= len(S) - 1\n",
    "model.new_soln_constr = pyo.Constraint(rule = new_soln_rule)"
   ]
  },
  {
   "cell_type": "markdown",
   "metadata": {},
   "source": [
    "### Re-solve and see if we have multiple optimal solutions."
   ]
  },
  {
   "cell_type": "code",
   "execution_count": 8,
   "metadata": {},
   "outputs": [
    {
     "name": "stdout",
     "output_type": "stream",
     "text": [
      "optimal\n",
      "Total usefulness: 2300.0\n",
      "You should bring item: 1\n",
      "You should bring item: 5\n"
     ]
    }
   ],
   "source": [
    "solver_result = pyo.SolverFactory('glpk').solve(model)\n",
    "solve_status = solver_result.solver.termination_condition\n",
    "print(solve_status)\n",
    "print(f'Total usefulness: {model.obj()}')\n",
    "for i in I:\n",
    "    if model.x[i] == 1:\n",
    "        print(f'You should bring item: {i}')"
   ]
  },
  {
   "cell_type": "markdown",
   "metadata": {},
   "source": [
    "The objective function is the same! So this solution is also optimal.\n",
    "\n",
    "In summary, there are two things that can happen:\n",
    "1. You get a new solution with the same objective function value. Thus, you have **multiple optimal solutions**\n",
    "2. You do not get a solution with the same objective function value. This IP has a unique optimal solution.\n",
    "\n",
    "This process can be repeated to find all optimal solutions of an IP."
   ]
  },
  {
   "cell_type": "markdown",
   "metadata": {},
   "source": [
    "# Your problem"
   ]
  },
  {
   "cell_type": "markdown",
   "metadata": {},
   "source": [
    "Read the following problem and implement it in python and check for multiple optimal solutions.\n",
    "\n",
    "Turn this in on blackboard by Sunday 14 Nov at 2359.\n",
    "\n",
    "This will count as your quiz 6 grade. You are allowed to work together."
   ]
  },
  {
   "cell_type": "markdown",
   "metadata": {},
   "source": [
    "#### Facility location set covering problem"
   ]
  },
  {
   "cell_type": "markdown",
   "metadata": {},
   "source": [
    "A county with 6 cities is deciding which cities to place fire stations in to cover each city. The table below gives the distances between each pair of cities:"
   ]
  },
  {
   "cell_type": "markdown",
   "metadata": {},
   "source": [
    "|    | City 1 | City 2| City 3| City 4| City 5| City 6|\n",
    "| :- |-: | -: |-: |-: |-: |-: |\n",
    "| City 1 | 0 | 10 | 13 | 30 | 30 | 20 |\n",
    "| City 2 | 10 | 0 | 25 | 35 | 20 | 10 |\n",
    "| City 3 | 13 | 25 | 0 | 15 | 30 | 20 |\n",
    "| City 4 | 30 | 35 | 15 | 0 | 15 | 25 |\n",
    "| City 5 | 30 | 20 | 30 | 15 | 0 | 14 |\n",
    "| City 6 | 20 | 10 | 20 | 25 | 14 | 0 |"
   ]
  },
  {
   "cell_type": "markdown",
   "metadata": {},
   "source": [
    "A city is covered if there is a firestation within 15 miles of it. Lastly, because of zoning requirements, a firestation can not be placed in both city 1 and city 5. They write the following set covering model:"
   ]
  },
  {
   "cell_type": "markdown",
   "metadata": {},
   "source": [
    "#### Sets:\n",
    "\n",
    "Let $C$ be the set of cities\n",
    "\n",
    "#### Parameters:\n",
    "\n",
    "Let $N_c$ be the neighborhood of customer $c$ for all $c \\in C$\n",
    "\n",
    "#### Variables:\n",
    "\n",
    "Let $x_c = 1$ if a firehouse is built in city $c$ for all $c \\in C$\n",
    "\n",
    "#### Objective:\n",
    "\n",
    "Minimize $\\displaystyle \\sum_{c \\in C} x_{c}$\n",
    "\n",
    "#### Constraints:\n",
    "\n",
    "- (1)  $\\displaystyle \\sum_{s \\in N{c}} x_{s} \\geq 1 $ $~\\forall~ c \\in C$ \n",
    "- (2)  $x_{1} + x_{5} \\leq 1$\n",
    "- (3)  $x_{c} \\in \\{0,1\\}$, $~\\forall~ c \\in C$ \n",
    "\n"
   ]
  },
  {
   "cell_type": "markdown",
   "metadata": {},
   "source": [
    "__1.__  Import the Pyomo library (5 points)"
   ]
  },
  {
   "cell_type": "code",
   "execution_count": 9,
   "metadata": {},
   "outputs": [],
   "source": [
    "import pyomo.environ as pyo"
   ]
  },
  {
   "cell_type": "markdown",
   "metadata": {},
   "source": [
    "__2.__  Define your sets and parameters (10 points)"
   ]
  },
  {
   "cell_type": "code",
   "execution_count": 10,
   "metadata": {},
   "outputs": [],
   "source": [
    "# Sets\n",
    "C = [1,2,3,4,5,6]\n",
    "\n",
    "# Parameters\n",
    "N = {1:(1,2,3),2:(1,2,6),3:(1,3,4),4:(3,4,5),5:(4,5,6),6:(2,5,6)}"
   ]
  },
  {
   "cell_type": "markdown",
   "metadata": {},
   "source": [
    "__3.__  Create the model and define your variables (5 points)"
   ]
  },
  {
   "cell_type": "code",
   "execution_count": 11,
   "metadata": {},
   "outputs": [],
   "source": [
    "model = pyo.ConcreteModel()\n",
    "model.x = pyo.Var(C, domain=pyo.Boolean)"
   ]
  },
  {
   "cell_type": "markdown",
   "metadata": {},
   "source": [
    "__4.__  Define the objective function and add it to the model (10 points)"
   ]
  },
  {
   "cell_type": "code",
   "execution_count": 12,
   "metadata": {},
   "outputs": [],
   "source": [
    "def obj_rule(model):\n",
    "    return sum(model.x[i] for i in C)\n",
    "model.obj = pyo.Objective(rule=obj_rule, sense = pyo.minimize)"
   ]
  },
  {
   "cell_type": "markdown",
   "metadata": {},
   "source": [
    "__5.__  Define the two constraints and add them to the model (20 points)"
   ]
  },
  {
   "cell_type": "code",
   "execution_count": 13,
   "metadata": {},
   "outputs": [],
   "source": [
    "# Covering Constraint\n",
    "def cover_rule(model,c):\n",
    "    return sum(model.x[s] for s in N[c]) >= 1\n",
    "model.vol_constr = pyo.Constraint(C,rule = cover_rule)"
   ]
  },
  {
   "cell_type": "code",
   "execution_count": 14,
   "metadata": {},
   "outputs": [],
   "source": [
    "# Logical Constraint\n",
    "def zoning_rule(model):\n",
    "    return (model.x[1] + model.x[5]) <= 1\n",
    "model.zone_constr = pyo.Constraint(rule=zoning_rule)"
   ]
  },
  {
   "cell_type": "markdown",
   "metadata": {},
   "source": [
    "__6.__  Solve the model and report the optimal solution (10 points)"
   ]
  },
  {
   "cell_type": "code",
   "execution_count": 15,
   "metadata": {},
   "outputs": [
    {
     "name": "stdout",
     "output_type": "stream",
     "text": [
      "optimal\n",
      "Total number of stations: 2.0\n",
      "You should open firestation: 2\n",
      "You should open firestation: 4\n"
     ]
    }
   ],
   "source": [
    "solver_result = pyo.SolverFactory('glpk').solve(model)\n",
    "solve_status = solver_result.solver.termination_condition\n",
    "print(solve_status)\n",
    "print(f'Total number of stations: {model.obj()}')\n",
    "for i in C:\n",
    "    if model.x[i] == 1:\n",
    "        print(f'You should open firestation: {i}')"
   ]
  },
  {
   "cell_type": "markdown",
   "metadata": {},
   "source": [
    "__7.__  Add a constraint to your model that removes this optimal solution from the feasible region. Re-solve the model with this new constraint. (15 points)"
   ]
  },
  {
   "cell_type": "code",
   "execution_count": 16,
   "metadata": {},
   "outputs": [],
   "source": [
    "S = [2,4]\n",
    "def new_soln_rule(model):\n",
    "    return sum (model.x[i] for i in C if i in S) <= len(S) - 1\n",
    "model.new_soln_constr = pyo.Constraint(rule = new_soln_rule)\n",
    "    "
   ]
  },
  {
   "cell_type": "code",
   "execution_count": 17,
   "metadata": {},
   "outputs": [
    {
     "name": "stdout",
     "output_type": "stream",
     "text": [
      "optimal\n",
      "Total number of stations: 2.0\n",
      "You should open firestation: 3\n",
      "You should open firestation: 6\n"
     ]
    }
   ],
   "source": [
    "solver_result = pyo.SolverFactory('glpk').solve(model)\n",
    "solve_status = solver_result.solver.termination_condition\n",
    "print(solve_status)\n",
    "print(f'Total number of stations: {model.obj()}')\n",
    "for i in C:\n",
    "    if model.x[i] == 1:\n",
    "        print(f'You should open firestation: {i}')"
   ]
  },
  {
   "cell_type": "markdown",
   "metadata": {},
   "source": [
    "__8.__  What is the second optimal solution? (5 points)"
   ]
  },
  {
   "cell_type": "code",
   "execution_count": 18,
   "metadata": {},
   "outputs": [],
   "source": [
    "# To answer\n",
    "# Open firestations 3 and 6"
   ]
  },
  {
   "cell_type": "markdown",
   "metadata": {},
   "source": [
    "__9.__  Repeat this process by removing your new solution from the feasible region and re-solving the model. (15 points)"
   ]
  },
  {
   "cell_type": "code",
   "execution_count": 19,
   "metadata": {},
   "outputs": [],
   "source": [
    "S2 = [3,6]\n",
    "def new_soln_rule2(model):\n",
    "    return sum (model.x[i] for i in C if i in S2) <= len(S2) - 1\n",
    "model.new_soln2_constr = pyo.Constraint(rule = new_soln_rule2)"
   ]
  },
  {
   "cell_type": "code",
   "execution_count": 20,
   "metadata": {},
   "outputs": [
    {
     "name": "stdout",
     "output_type": "stream",
     "text": [
      "optimal\n",
      "Total number of stations: 3.0\n",
      "You should open firestation: 2\n",
      "You should open firestation: 3\n",
      "You should open firestation: 5\n"
     ]
    }
   ],
   "source": [
    "solver_result = pyo.SolverFactory('glpk').solve(model)\n",
    "solve_status = solver_result.solver.termination_condition\n",
    "print(solve_status)\n",
    "print(f'Total number of stations: {model.obj()}')\n",
    "for i in C:\n",
    "    if model.x[i] == 1:\n",
    "        print(f'You should open firestation: {i}')"
   ]
  },
  {
   "cell_type": "markdown",
   "metadata": {},
   "source": [
    "__10.__  Does this problem have more than 2 optimal solutions? (5 points)"
   ]
  },
  {
   "cell_type": "code",
   "execution_count": 21,
   "metadata": {},
   "outputs": [],
   "source": [
    "# To answer\n",
    "# No"
   ]
  },
  {
   "cell_type": "markdown",
   "metadata": {},
   "source": [
    "## When you're finished"
   ]
  },
  {
   "cell_type": "markdown",
   "metadata": {},
   "source": [
    "- Make sure your notebook runs from top to bottom with no errors. One way to accomplish this is to click on __Kernel &#8594; Restart & Run All__. This will restart Python, and run your notebook from top to bottom."
   ]
  },
  {
   "cell_type": "markdown",
   "metadata": {},
   "source": [
    "| Problem | Weight |\n",
    "| :-: | -: |\n",
    "| 1 | 5 |\n",
    "| 2 | 10 | \n",
    "| 3 | 5 | \n",
    "| 4 | 10 | \n",
    "| 5 | 20 | \n",
    "| 6 | 10 |\n",
    "| 7 | 15 | \n",
    "| 8 | 5 |\n",
    "| 9 | 15 |\n",
    "| 10 | 5|\n",
    "| __Total__ | __100 points__ |"
   ]
  },
  {
   "cell_type": "code",
   "execution_count": null,
   "metadata": {},
   "outputs": [],
   "source": []
  }
 ],
 "metadata": {
  "kernelspec": {
   "display_name": "Python 3",
   "language": "python",
   "name": "python3"
  },
  "language_info": {
   "codemirror_mode": {
    "name": "ipython",
    "version": 3
   },
   "file_extension": ".py",
   "mimetype": "text/x-python",
   "name": "python",
   "nbconvert_exporter": "python",
   "pygments_lexer": "ipython3",
   "version": "3.6.9"
  },
  "varInspector": {
   "cols": {
    "lenName": 16,
    "lenType": 16,
    "lenVar": 40
   },
   "kernels_config": {
    "python": {
     "delete_cmd_postfix": "",
     "delete_cmd_prefix": "del ",
     "library": "var_list.py",
     "varRefreshCmd": "print(var_dic_list())"
    },
    "r": {
     "delete_cmd_postfix": ") ",
     "delete_cmd_prefix": "rm(",
     "library": "var_list.r",
     "varRefreshCmd": "cat(var_dic_list()) "
    }
   },
   "types_to_exclude": [
    "module",
    "function",
    "builtin_function_or_method",
    "instance",
    "_Feature"
   ],
   "window_display": false
  }
 },
 "nbformat": 4,
 "nbformat_minor": 4
}
