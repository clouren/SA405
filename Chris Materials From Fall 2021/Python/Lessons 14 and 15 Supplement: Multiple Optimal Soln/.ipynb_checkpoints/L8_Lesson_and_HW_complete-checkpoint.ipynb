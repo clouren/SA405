{
 "cells": [
  {
   "cell_type": "markdown",
   "metadata": {},
   "source": [
    "# SA405 Lesson 14/15 Supplement: Multiple Optimal Solutions\n",
    "\n",
    "### Today...\n",
    "\n",
    "- Solve an integer program and check for alternate optimal solutions\n",
    "- Solve a problem of your own\n",
    "- Submit the solved problem for quiz 6 grade"
   ]
  },
  {
   "cell_type": "markdown",
   "metadata": {},
   "source": [
    "#### Multiple optimal solutions\n",
    "\n",
    "In class this week, we talked about how every IP has exactly one of the following resolutions:\n",
    "1. Unique optimal solutions\n",
    "2. Multiple optimal solutions\n",
    "3. Unbounded\n",
    "4. Infeasible\n",
    "   \n",
    "Remember from SA305, in linear programming it's easy to find all 4. For multiple optimal solutions specifically, there are an infinite number of solutions in LP. In integer programming it is 'easy' to find 1, 3, and 4; but finding multiple optimal solutions is not as straightforward. Here we will see an example of doing that."
   ]
  },
  {
   "cell_type": "code",
   "execution_count": 31,
   "metadata": {},
   "outputs": [],
   "source": [
    "import pyomo.environ as pyo"
   ]
  },
  {
   "cell_type": "markdown",
   "metadata": {},
   "source": [
    "### Model to implement:\n",
    "\n",
    "A company is trying to send various items on a plane. The plane has 1000 $ft^3$ of cargo space and each item they want to bring has a certain volume it occupies as well as a usefulness to the company. The table below summarizes this information for each item. "
   ]
  },
  {
   "cell_type": "markdown",
   "metadata": {},
   "source": [
    "| Item Number | Volume (cubic feet) | Usefulness |\n",
    "| :- | -: | -: |\n",
    "| 1 | 850 | 2000 |\n",
    "| 2 | 300 | 700 |\n",
    "| 3 | 200 | 600 |\n",
    "| 4 | 275 | 400 |\n",
    "| 5 | 140 | 300 |\n",
    "| 6 | 525 | 900 |"
   ]
  },
  {
   "cell_type": "markdown",
   "metadata": {},
   "source": [
    "They formulate this as an integer program as follows:\n",
    "\n",
    "#### Sets:\n",
    "\n",
    "Let $I$ be the set of items\n",
    "\n",
    "#### Parameters:\n",
    "\n",
    "Let $v_i$ be the volume of item $i$ for all $i \\in I$\n",
    "\n",
    "Let $u_i$ be the usefulness of item $i$ for all $i \\in I$\n",
    "\n",
    "#### Variables:\n",
    "\n",
    "Let $x_i = 1$ if item $i$ is brought on the plane and $0$ otherwise for all $i \\in I$\n",
    "\n",
    "#### Objective:\n",
    "\n",
    "Maximize $\\displaystyle \\sum_{i \\in I} u_i x_{i}$\n",
    "\n",
    "#### Constraints:\n",
    "\n",
    "- (1)  $\\displaystyle \\sum_{i \\in I} v_i x_{i} \\leq 1000 $\n",
    "- (2)  $x_{i} \\in \\{0,1\\}$, $~\\forall~ i) \\in I$ \n"
   ]
  },
  {
   "cell_type": "markdown",
   "metadata": {},
   "source": [
    "### Define sets, parameters, and variables"
   ]
  },
  {
   "cell_type": "code",
   "execution_count": 32,
   "metadata": {},
   "outputs": [],
   "source": [
    "# Set of items\n",
    "I = [1,2,3,4,5,6]\n",
    "\n",
    "# Volume of each item\n",
    "V = {1:850, 2:300, 3:200, 4:275, 5:140, 6:525}\n",
    "# Usefulness of each item\n",
    "U = {1:2000, 2:700, 3:800, 4:500, 5:300, 6:900}"
   ]
  },
  {
   "cell_type": "code",
   "execution_count": 33,
   "metadata": {},
   "outputs": [],
   "source": [
    "# Create model and define x\n",
    "model = pyo.ConcreteModel()\n",
    "model.x = pyo.Var(I, domain=pyo.Boolean)"
   ]
  },
  {
   "cell_type": "markdown",
   "metadata": {},
   "source": [
    "### Define objective function and constraints"
   ]
  },
  {
   "cell_type": "code",
   "execution_count": 34,
   "metadata": {},
   "outputs": [],
   "source": [
    "def obj_rule(model):\n",
    "    return sum(model.x[i]*U[i] for i in I)\n",
    "model.obj = pyo.Objective(rule=obj_rule, sense = pyo.maximize)"
   ]
  },
  {
   "cell_type": "code",
   "execution_count": 35,
   "metadata": {},
   "outputs": [],
   "source": [
    "# Volume Constraint\n",
    "def volume_rule(model):\n",
    "    return sum(model.x[i] * V[i] for i in I) <= 1000\n",
    "model.vol_constr = pyo.Constraint(rule = volume_rule)"
   ]
  },
  {
   "cell_type": "markdown",
   "metadata": {},
   "source": [
    "### Solve the model and print the solution"
   ]
  },
  {
   "cell_type": "code",
   "execution_count": 36,
   "metadata": {},
   "outputs": [
    {
     "name": "stdout",
     "output_type": "stream",
     "text": [
      "optimal\n",
      "Total usefulness: 2300.0\n",
      "You should bring item: 2\n",
      "You should bring item: 3\n",
      "You should bring item: 4\n",
      "You should bring item: 5\n"
     ]
    }
   ],
   "source": [
    "solver_result = pyo.SolverFactory('glpk').solve(model)\n",
    "solve_status = solver_result.solver.termination_condition\n",
    "print(solve_status)\n",
    "print(f'Total usefulness: {model.obj()}')\n",
    "for i in I:\n",
    "    if model.x[i] == 1:\n",
    "        print(f'You should bring item: {i}')"
   ]
  },
  {
   "cell_type": "markdown",
   "metadata": {},
   "source": [
    "The optimal solution says we should bring items 2, 3, 4, and 5. So the question now is, is there another solution, with the same objective function value as this one? (Recall if two solutions have the same objective function value they are both optimal. There are several ways to do this in IP.\n",
    "\n",
    "If all of our variables are **binary** the easiest strategy is to force one of our current optimal variables to be equal to 0. That is, currently **4** of our variables are nonzero, x[2], x[3], x[4], and x[5]. If I add the constraint x[2]+x[3]+x[4]+x[5] <= 3 to the model, it will force the solver to find a new solution where these are not the 4 items picked. If this new solution has the same objective function value; then we have **multiple optimal solutions**"
   ]
  },
  {
   "cell_type": "markdown",
   "metadata": {},
   "source": [
    "### Add the new constraint to the model"
   ]
  },
  {
   "cell_type": "code",
   "execution_count": 29,
   "metadata": {},
   "outputs": [
    {
     "name": "stdout",
     "output_type": "stream",
     "text": [
      "WARNING: Implicitly replacing the Component attribute new_soln_constr\n",
      "    (type=<class 'pyomo.core.base.constraint.SimpleConstraint'>) on block\n",
      "    unknown with a new Component (type=<class\n",
      "    'pyomo.core.base.constraint.SimpleConstraint'>). This is usually\n",
      "    indicative of a modelling error. To avoid this warning, use\n",
      "    block.del_component() and block.add_component().\n"
     ]
    }
   ],
   "source": [
    "# define a set S which is the variable indices to remove (kidna like subtour elim)\n",
    "S = [2,3,4,5]\n",
    "def new_soln_rule(model):\n",
    "    return sum (model.x[i] for i in I if i in S) <= len(S) - 1\n",
    "model.new_soln_constr = pyo.Constraint(rule = new_soln_rule)"
   ]
  },
  {
   "cell_type": "markdown",
   "metadata": {},
   "source": [
    "### Re-solve and see if we have multiple optimal solutions."
   ]
  },
  {
   "cell_type": "code",
   "execution_count": 30,
   "metadata": {},
   "outputs": [
    {
     "name": "stdout",
     "output_type": "stream",
     "text": [
      "optimal\n",
      "Total usefulness: 2300.0\n",
      "You should bring item: 1\n",
      "You should bring item: 5\n"
     ]
    }
   ],
   "source": [
    "solver_result = pyo.SolverFactory('glpk').solve(model)\n",
    "solve_status = solver_result.solver.termination_condition\n",
    "print(solve_status)\n",
    "print(f'Total usefulness: {model.obj()}')\n",
    "for i in I:\n",
    "    if model.x[i] == 1:\n",
    "        print(f'You should bring item: {i}')"
   ]
  },
  {
   "cell_type": "markdown",
   "metadata": {},
   "source": [
    "The objective function is the same! So this solution is also optimal.\n",
    "\n",
    "In summary, there are two things that can happen:\n",
    "1. You get a new solution with the same objective function value. Thus, you have **multiple optimal solutions**\n",
    "2. You do not get a solution with the same objective function value. This IP has a unique optimal solution.\n",
    "\n",
    "This process can be repeated to find all optimal solutions of an IP."
   ]
  },
  {
   "cell_type": "markdown",
   "metadata": {},
   "source": [
    "# Your problem"
   ]
  },
  {
   "cell_type": "code",
   "execution_count": null,
   "metadata": {},
   "outputs": [],
   "source": []
  }
 ],
 "metadata": {
  "kernelspec": {
   "display_name": "Python 3",
   "language": "python",
   "name": "python3"
  },
  "language_info": {
   "codemirror_mode": {
    "name": "ipython",
    "version": 3
   },
   "file_extension": ".py",
   "mimetype": "text/x-python",
   "name": "python",
   "nbconvert_exporter": "python",
   "pygments_lexer": "ipython3",
   "version": "3.6.9"
  },
  "varInspector": {
   "cols": {
    "lenName": 16,
    "lenType": 16,
    "lenVar": 40
   },
   "kernels_config": {
    "python": {
     "delete_cmd_postfix": "",
     "delete_cmd_prefix": "del ",
     "library": "var_list.py",
     "varRefreshCmd": "print(var_dic_list())"
    },
    "r": {
     "delete_cmd_postfix": ") ",
     "delete_cmd_prefix": "rm(",
     "library": "var_list.r",
     "varRefreshCmd": "cat(var_dic_list()) "
    }
   },
   "types_to_exclude": [
    "module",
    "function",
    "builtin_function_or_method",
    "instance",
    "_Feature"
   ],
   "window_display": false
  }
 },
 "nbformat": 4,
 "nbformat_minor": 4
}
