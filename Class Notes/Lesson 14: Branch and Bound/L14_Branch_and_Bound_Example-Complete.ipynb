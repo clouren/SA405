{
 "cells": [
  {
   "cell_type": "markdown",
   "metadata": {},
   "source": [
    "# SA405 Lesson 16\n",
    "## Branch-and-bound Example"
   ]
  },
  {
   "cell_type": "markdown",
   "metadata": {},
   "source": [
    "Solve the following IP via branch-and-bound:\n",
    "\n",
    "$\n",
    "(P1) ~~~ z_{IP}^* =  \\text{ max } 8x + 7y\\\\\n",
    "\\text{s.t.} \\quad  -18x + 38y \\leq 133\\\\\n",
    "\\quad \\quad \\quad   13x + 11y \\leq 125\\\\\n",
    "\\quad \\quad \\quad       10x -    8y \\leq 55\\\\\n",
    "\\quad \\quad \\quad       x, y \\in \\mathbb{Z}^{\\geq 0}\n",
    "$"
   ]
  },
  {
   "cell_type": "code",
   "execution_count": 1,
   "metadata": {},
   "outputs": [],
   "source": [
    "import pyomo.environ as pyo"
   ]
  },
  {
   "cell_type": "markdown",
   "metadata": {},
   "source": [
    "### Function:  LP relaxation of (P1) "
   ]
  },
  {
   "cell_type": "code",
   "execution_count": 2,
   "metadata": {},
   "outputs": [],
   "source": [
    "def P1_model():\n",
    "    '''\n",
    "    Returns the LP relaxation of (P1)\n",
    "    '''\n",
    "    model = pyo.ConcreteModel()\n",
    "\n",
    "    # Variables\n",
    "    model.x = pyo.Var(domain=pyo.NonNegativeReals)\n",
    "    model.y = pyo.Var(domain=pyo.NonNegativeReals)\n",
    "\n",
    "    # Objective\n",
    "    def obj_rule(model):\n",
    "        return 8*model.x + 7*model.y\n",
    "    model.obj = pyo.Objective(rule=obj_rule, sense=pyo.maximize)\n",
    "\n",
    "    # Constraints\n",
    "    def const1a_rule(model):\n",
    "        return -18*model.x + 38*model.y <= 133\n",
    "    model.const1a = pyo.Constraint(rule=const1a_rule)\n",
    "\n",
    "    def const1b_rule(model):\n",
    "        return 13*model.x + 11*model.y <= 125\n",
    "    model.const1b = pyo.Constraint(rule=const1b_rule)\n",
    "\n",
    "    def const1c_rule(model):\n",
    "        return 10*model.x - 8*model.y <= 55\n",
    "    model.const1c = pyo.Constraint(rule=const1c_rule)\n",
    "    \n",
    "    return model"
   ]
  },
  {
   "cell_type": "markdown",
   "metadata": {},
   "source": [
    "### Function:  Solve and print model"
   ]
  },
  {
   "cell_type": "code",
   "execution_count": 3,
   "metadata": {},
   "outputs": [],
   "source": [
    "def solve_and_print(model):\n",
    "    '''\n",
    "    Solve and print model that has two variables: x and y\n",
    "    \n",
    "    Keyword Arguments:\n",
    "    model = pyomo ConcreteModel()\n",
    "    \n",
    "    Return:\n",
    "    none\n",
    "    '''\n",
    "    solver_result = pyo.SolverFactory('glpk').solve(model)\n",
    "\n",
    "    if solver_result.solver.termination_condition == pyo.TerminationCondition.optimal:\n",
    "        print(f'z = {model.obj()}, (x,y) = {model.x.value,model.y.value}')\n",
    "    else:\n",
    "        print(solver_result.solver.termination_condition)"
   ]
  },
  {
   "cell_type": "markdown",
   "metadata": {},
   "source": [
    "### Solve (P1)"
   ]
  },
  {
   "cell_type": "code",
   "execution_count": 4,
   "metadata": {},
   "outputs": [
    {
     "name": "stdout",
     "output_type": "stream",
     "text": [
      "z = 78.25, (x,y) = (4.75, 5.75)\n"
     ]
    }
   ],
   "source": [
    "model = P1_model()\n",
    "\n",
    "# Solve the LP relaxation of (P1)\n",
    "solve_and_print(model)"
   ]
  },
  {
   "cell_type": "markdown",
   "metadata": {},
   "source": [
    "### Solve (P2)"
   ]
  },
  {
   "cell_type": "code",
   "execution_count": 5,
   "metadata": {},
   "outputs": [
    {
     "name": "stdout",
     "output_type": "stream",
     "text": [
      "z = 69.76315789473682, (x,y) = (4.0, 5.39473684210526)\n"
     ]
    }
   ],
   "source": [
    "model = P1_model()\n",
    "\n",
    "def new_const1(model):\n",
    "    return model.x <= 4\n",
    "model.new_const1 = pyo.Constraint(rule = new_const1)\n",
    "\n",
    "# Solve the LP relaxation of (P1)\n",
    "solve_and_print(model)"
   ]
  },
  {
   "cell_type": "markdown",
   "metadata": {},
   "source": [
    "### Solve (P3)"
   ]
  },
  {
   "cell_type": "code",
   "execution_count": 6,
   "metadata": {},
   "outputs": [
    {
     "name": "stdout",
     "output_type": "stream",
     "text": [
      "z = 78.18181818181814, (x,y) = (5.0, 5.45454545454545)\n"
     ]
    }
   ],
   "source": [
    "model = P1_model()\n",
    "\n",
    "def new_const1(model):\n",
    "    return model.x >= 5\n",
    "model.new_const1 = pyo.Constraint(rule = new_const1)\n",
    "\n",
    "# Solve the LP relaxation of (P1)\n",
    "solve_and_print(model)"
   ]
  },
  {
   "cell_type": "markdown",
   "metadata": {},
   "source": [
    "### Solve (P4)"
   ]
  },
  {
   "cell_type": "code",
   "execution_count": 7,
   "metadata": {},
   "outputs": [
    {
     "name": "stdout",
     "output_type": "stream",
     "text": [
      "z = 78.07692307692312, (x,y) = (5.38461538461539, 5.0)\n"
     ]
    }
   ],
   "source": [
    "model = P1_model()\n",
    "\n",
    "def new_const1(model):\n",
    "    return model.x >= 5\n",
    "model.new_const1 = pyo.Constraint(rule = new_const1)\n",
    "\n",
    "def new_const2(model):\n",
    "    return model.y <= 5\n",
    "model.new_const2 = pyo.Constraint(rule = new_const2)\n",
    "\n",
    "# Solve the LP relaxation of (P1)\n",
    "solve_and_print(model)"
   ]
  },
  {
   "cell_type": "markdown",
   "metadata": {},
   "source": [
    "### Solve (P5)"
   ]
  },
  {
   "cell_type": "code",
   "execution_count": 8,
   "metadata": {},
   "outputs": [
    {
     "name": "stdout",
     "output_type": "stream",
     "text": [
      "infeasible\n"
     ]
    }
   ],
   "source": [
    "model = P1_model()\n",
    "\n",
    "def new_const1(model):\n",
    "    return model.x >= 5\n",
    "model.new_const1 = pyo.Constraint(rule = new_const1)\n",
    "\n",
    "def new_const2(model):\n",
    "    return model.y >= 6\n",
    "model.new_const2 = pyo.Constraint(rule = new_const2)\n",
    "\n",
    "# Solve the LP relaxation of (P1)\n",
    "solve_and_print(model)"
   ]
  },
  {
   "cell_type": "markdown",
   "metadata": {},
   "source": [
    "### Solve (P6)"
   ]
  },
  {
   "cell_type": "code",
   "execution_count": 9,
   "metadata": {},
   "outputs": [
    {
     "name": "stdout",
     "output_type": "stream",
     "text": [
      "z = 75.0, (x,y) = (5.0, 5.0)\n"
     ]
    }
   ],
   "source": [
    "model = P1_model()\n",
    "\n",
    "def new_const1(model):\n",
    "    return model.x >= 5\n",
    "model.new_const1 = pyo.Constraint(rule = new_const1)\n",
    "\n",
    "def new_const2(model):\n",
    "    return model.y <= 5\n",
    "model.new_const2 = pyo.Constraint(rule = new_const2)\n",
    "\n",
    "def new_const3(model):\n",
    "    return model.x <= 5\n",
    "model.new_const3 = pyo.Constraint(rule = new_const3)\n",
    "\n",
    "# Solve the LP relaxation of (P1)\n",
    "solve_and_print(model)"
   ]
  },
  {
   "cell_type": "markdown",
   "metadata": {},
   "source": [
    "### Solve (P7)"
   ]
  },
  {
   "cell_type": "code",
   "execution_count": 10,
   "metadata": {},
   "outputs": [
    {
     "name": "stdout",
     "output_type": "stream",
     "text": [
      "z = 77.90909090909089, (x,y) = (6.0, 4.27272727272727)\n"
     ]
    }
   ],
   "source": [
    "model = P1_model()\n",
    "\n",
    "def new_const1(model):\n",
    "    return model.x >= 5\n",
    "model.new_const1 = pyo.Constraint(rule = new_const1)\n",
    "\n",
    "def new_const2(model):\n",
    "    return model.y <= 5\n",
    "model.new_const2 = pyo.Constraint(rule = new_const2)\n",
    "\n",
    "def new_const3(model):\n",
    "    return model.x >= 6\n",
    "model.new_const3 = pyo.Constraint(rule = new_const3)\n",
    "\n",
    "# Solve the LP relaxation of (P1)\n",
    "solve_and_print(model)"
   ]
  },
  {
   "cell_type": "markdown",
   "metadata": {},
   "source": [
    "### Solve (P8)"
   ]
  },
  {
   "cell_type": "code",
   "execution_count": 11,
   "metadata": {},
   "outputs": [
    {
     "name": "stdout",
     "output_type": "stream",
     "text": [
      "z = 77.84615384615384, (x,y) = (6.23076923076923, 4.0)\n"
     ]
    }
   ],
   "source": [
    "model = P1_model()\n",
    "\n",
    "def new_const1(model):\n",
    "    return model.x >= 5\n",
    "model.new_const1 = pyo.Constraint(rule = new_const1)\n",
    "\n",
    "def new_const2(model):\n",
    "    return model.y <= 5\n",
    "model.new_const2 = pyo.Constraint(rule = new_const2)\n",
    "\n",
    "def new_const3(model):\n",
    "    return model.x >= 6\n",
    "model.new_const3 = pyo.Constraint(rule = new_const3)\n",
    "\n",
    "def new_const4(model):\n",
    "    return model.y <= 4\n",
    "model.new_const4 = pyo.Constraint(rule = new_const4)\n",
    "\n",
    "# Solve the LP relaxation of (P1)\n",
    "solve_and_print(model)"
   ]
  },
  {
   "cell_type": "markdown",
   "metadata": {},
   "source": [
    "### Solve (P9)"
   ]
  },
  {
   "cell_type": "code",
   "execution_count": 12,
   "metadata": {},
   "outputs": [
    {
     "name": "stdout",
     "output_type": "stream",
     "text": [
      "infeasible\n"
     ]
    }
   ],
   "source": [
    "model = P1_model()\n",
    "\n",
    "def new_const1(model):\n",
    "    return model.x >= 5\n",
    "model.new_const1 = pyo.Constraint(rule = new_const1)\n",
    "\n",
    "def new_const2(model):\n",
    "    return model.y <= 5\n",
    "model.new_const2 = pyo.Constraint(rule = new_const2)\n",
    "\n",
    "def new_const3(model):\n",
    "    return model.x >= 6\n",
    "model.new_const3 = pyo.Constraint(rule = new_const3)\n",
    "\n",
    "def new_const4(model):\n",
    "    return model.y >= 5\n",
    "model.new_const4 = pyo.Constraint(rule = new_const4)\n",
    "\n",
    "# Solve the LP relaxation of (P1)\n",
    "solve_and_print(model)"
   ]
  },
  {
   "cell_type": "markdown",
   "metadata": {},
   "source": [
    "### Solve (P10)"
   ]
  },
  {
   "cell_type": "code",
   "execution_count": 13,
   "metadata": {},
   "outputs": [
    {
     "name": "stdout",
     "output_type": "stream",
     "text": [
      "z = 76.0, (x,y) = (6.0, 4.0)\n"
     ]
    }
   ],
   "source": [
    "model = P1_model()\n",
    "\n",
    "def new_const1(model):\n",
    "    return model.x >= 5\n",
    "model.new_const1 = pyo.Constraint(rule = new_const1)\n",
    "\n",
    "def new_const2(model):\n",
    "    return model.y <= 5\n",
    "model.new_const2 = pyo.Constraint(rule = new_const2)\n",
    "\n",
    "def new_const3(model):\n",
    "    return model.x >= 6\n",
    "model.new_const3 = pyo.Constraint(rule = new_const3)\n",
    "\n",
    "def new_const4(model):\n",
    "    return model.y <= 4\n",
    "model.new_const4 = pyo.Constraint(rule = new_const4)\n",
    "\n",
    "def new_const5(model):\n",
    "    return model.x <= 6\n",
    "model.new_const5 = pyo.Constraint(rule = new_const5)\n",
    "\n",
    "# Solve the LP relaxation of (P1)\n",
    "solve_and_print(model)"
   ]
  },
  {
   "cell_type": "markdown",
   "metadata": {},
   "source": [
    "### Solve (P11)"
   ]
  },
  {
   "cell_type": "code",
   "execution_count": 14,
   "metadata": {},
   "outputs": [
    {
     "name": "stdout",
     "output_type": "stream",
     "text": [
      "z = 77.63636363636363, (x,y) = (7.0, 3.09090909090909)\n"
     ]
    }
   ],
   "source": [
    "model = P1_model()\n",
    "\n",
    "def new_const1(model):\n",
    "    return model.x >= 5\n",
    "model.new_const1 = pyo.Constraint(rule = new_const1)\n",
    "\n",
    "def new_const2(model):\n",
    "    return model.y <= 5\n",
    "model.new_const2 = pyo.Constraint(rule = new_const2)\n",
    "\n",
    "def new_const3(model):\n",
    "    return model.x >= 6\n",
    "model.new_const3 = pyo.Constraint(rule = new_const3)\n",
    "\n",
    "def new_const4(model):\n",
    "    return model.y <= 4\n",
    "model.new_const4 = pyo.Constraint(rule = new_const4)\n",
    "\n",
    "def new_const5(model):\n",
    "    return model.x >= 7\n",
    "model.new_const5 = pyo.Constraint(rule = new_const5)\n",
    "\n",
    "# Solve the LP relaxation of (P1)\n",
    "solve_and_print(model)"
   ]
  },
  {
   "cell_type": "markdown",
   "metadata": {},
   "source": [
    "### Solve (P12)"
   ]
  },
  {
   "cell_type": "code",
   "execution_count": 15,
   "metadata": {},
   "outputs": [
    {
     "name": "stdout",
     "output_type": "stream",
     "text": [
      "z = 77.61538461538464, (x,y) = (7.07692307692308, 3.0)\n"
     ]
    }
   ],
   "source": [
    "model = P1_model()\n",
    "\n",
    "def new_const1(model):\n",
    "    return model.x >= 5\n",
    "model.new_const1 = pyo.Constraint(rule = new_const1)\n",
    "\n",
    "def new_const2(model):\n",
    "    return model.y <= 5\n",
    "model.new_const2 = pyo.Constraint(rule = new_const2)\n",
    "\n",
    "def new_const3(model):\n",
    "    return model.x >= 6\n",
    "model.new_const3 = pyo.Constraint(rule = new_const3)\n",
    "\n",
    "def new_const4(model):\n",
    "    return model.y <= 4\n",
    "model.new_const4 = pyo.Constraint(rule = new_const4)\n",
    "\n",
    "def new_const5(model):\n",
    "    return model.x >= 7\n",
    "model.new_const5 = pyo.Constraint(rule = new_const5)\n",
    "\n",
    "def new_const6(model):\n",
    "    return model.y <= 3\n",
    "model.new_const6 = pyo.Constraint(rule = new_const6)\n",
    "\n",
    "# Solve the LP relaxation of (P1)\n",
    "solve_and_print(model)"
   ]
  },
  {
   "cell_type": "markdown",
   "metadata": {},
   "source": [
    "### Solve (P13)"
   ]
  },
  {
   "cell_type": "code",
   "execution_count": 16,
   "metadata": {},
   "outputs": [
    {
     "name": "stdout",
     "output_type": "stream",
     "text": [
      "infeasible\n"
     ]
    }
   ],
   "source": [
    "model = P1_model()\n",
    "\n",
    "def new_const1(model):\n",
    "    return model.x >= 5\n",
    "model.new_const1 = pyo.Constraint(rule = new_const1)\n",
    "\n",
    "def new_const2(model):\n",
    "    return model.y <= 5\n",
    "model.new_const2 = pyo.Constraint(rule = new_const2)\n",
    "\n",
    "def new_const3(model):\n",
    "    return model.x >= 6\n",
    "model.new_const3 = pyo.Constraint(rule = new_const3)\n",
    "\n",
    "def new_const4(model):\n",
    "    return model.y <= 4\n",
    "model.new_const4 = pyo.Constraint(rule = new_const4)\n",
    "\n",
    "def new_const5(model):\n",
    "    return model.x >= 7\n",
    "model.new_const5 = pyo.Constraint(rule = new_const5)\n",
    "\n",
    "def new_const6(model):\n",
    "    return model.y >= 4\n",
    "model.new_const6 = pyo.Constraint(rule = new_const6)\n",
    "\n",
    "# Solve the LP relaxation of (P1)\n",
    "solve_and_print(model)"
   ]
  },
  {
   "cell_type": "markdown",
   "metadata": {},
   "source": [
    "### Solve (P14)"
   ]
  },
  {
   "cell_type": "code",
   "execution_count": 20,
   "metadata": {},
   "outputs": [
    {
     "name": "stdout",
     "output_type": "stream",
     "text": [
      "z = 77.0, (x,y) = (7.0, 3.0)\n"
     ]
    }
   ],
   "source": [
    "model = P1_model()\n",
    "\n",
    "def new_const1(model):\n",
    "    return model.x >= 5\n",
    "model.new_const1 = pyo.Constraint(rule = new_const1)\n",
    "\n",
    "def new_const2(model):\n",
    "    return model.y <= 5\n",
    "model.new_const2 = pyo.Constraint(rule = new_const2)\n",
    "\n",
    "def new_const3(model):\n",
    "    return model.x >= 6\n",
    "model.new_const3 = pyo.Constraint(rule = new_const3)\n",
    "\n",
    "def new_const4(model):\n",
    "    return model.y <= 4\n",
    "model.new_const4 = pyo.Constraint(rule = new_const4)\n",
    "\n",
    "def new_const5(model):\n",
    "    return model.x >= 7\n",
    "model.new_const5 = pyo.Constraint(rule = new_const5)\n",
    "\n",
    "def new_const6(model):\n",
    "    return model.y <= 3\n",
    "model.new_const6 = pyo.Constraint(rule = new_const6)\n",
    "\n",
    "def new_const7(model):\n",
    "    return model.x <= 7\n",
    "model.new_const7 = pyo.Constraint(rule = new_const7)\n",
    "\n",
    "# Solve the LP relaxation of (P1)\n",
    "solve_and_print(model)"
   ]
  },
  {
   "cell_type": "markdown",
   "metadata": {},
   "source": [
    "### Solve (P15)"
   ]
  },
  {
   "cell_type": "code",
   "execution_count": 21,
   "metadata": {},
   "outputs": [
    {
     "name": "stdout",
     "output_type": "stream",
     "text": [
      "other\n"
     ]
    }
   ],
   "source": [
    "model = P1_model()\n",
    "\n",
    "def new_const1(model):\n",
    "    return model.x >= 5\n",
    "model.new_const1 = pyo.Constraint(rule = new_const1)\n",
    "\n",
    "def new_const2(model):\n",
    "    return model.y <= 5\n",
    "model.new_const2 = pyo.Constraint(rule = new_const2)\n",
    "\n",
    "def new_const3(model):\n",
    "    return model.x >= 6\n",
    "model.new_const3 = pyo.Constraint(rule = new_const3)\n",
    "\n",
    "def new_const4(model):\n",
    "    return model.y <= 4\n",
    "model.new_const4 = pyo.Constraint(rule = new_const4)\n",
    "\n",
    "def new_const5(model):\n",
    "    return model.x >= 7\n",
    "model.new_const5 = pyo.Constraint(rule = new_const5)\n",
    "\n",
    "def new_const6(model):\n",
    "    return model.y <= 3\n",
    "model.new_const6 = pyo.Constraint(rule = new_const6)\n",
    "\n",
    "def new_const7(model):\n",
    "    return model.x >= 8\n",
    "model.new_const7 = pyo.Constraint(rule = new_const7)\n",
    "\n",
    "# Solve the LP relaxation of (P1)\n",
    "solve_and_print(model)"
   ]
  },
  {
   "cell_type": "code",
   "execution_count": null,
   "metadata": {},
   "outputs": [],
   "source": []
  }
 ],
 "metadata": {
  "kernelspec": {
   "display_name": "Python 3",
   "language": "python",
   "name": "python3"
  },
  "language_info": {
   "codemirror_mode": {
    "name": "ipython",
    "version": 3
   },
   "file_extension": ".py",
   "mimetype": "text/x-python",
   "name": "python",
   "nbconvert_exporter": "python",
   "pygments_lexer": "ipython3",
   "version": "3.6.9"
  },
  "varInspector": {
   "cols": {
    "lenName": 16,
    "lenType": 16,
    "lenVar": 40
   },
   "kernels_config": {
    "python": {
     "delete_cmd_postfix": "",
     "delete_cmd_prefix": "del ",
     "library": "var_list.py",
     "varRefreshCmd": "print(var_dic_list())"
    },
    "r": {
     "delete_cmd_postfix": ") ",
     "delete_cmd_prefix": "rm(",
     "library": "var_list.r",
     "varRefreshCmd": "cat(var_dic_list()) "
    }
   },
   "types_to_exclude": [
    "module",
    "function",
    "builtin_function_or_method",
    "instance",
    "_Feature"
   ],
   "window_display": false
  }
 },
 "nbformat": 4,
 "nbformat_minor": 4
}
